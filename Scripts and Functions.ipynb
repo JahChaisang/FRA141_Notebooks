{
 "cells": [
  {
   "cell_type": "markdown",
   "metadata": {},
   "source": [
    "# การเขียนสคริปท์ใน Python\n",
    "\n",
    "โดยปกติโปรแกรมเมอร์จะเขียนสคริปท์ (เขียนโค้ดหลายๆบรรทัดในไฟล์เดียว) แล้วนำไปรันใน python compiler วันนี้เราจะมาลองเรียนการรันโปรแกรมในลักษณะนี้ดู \n",
    "\n",
    "ขั้นแรก เราจะเปิดโปรแกรม code editor ที่ชื่อว่า sublime text ในคอมพิวเตอร์ของเรา\n",
    "\n",
    "![Sublime Text](./images/sublime.jpeg)\n",
    "\n",
    "สร้างไฟล์ขึ้นมาที่มีนามสกุล .py เช่น test.py\n",
    "\n",
    "Sublime Text จะทราบทันทีว่าเราเขียนโค้ด python ขึ้นมาแล้วจะเริ่ม highlight python syntax หมายถึงจะเริ่มใส่สีเข้าไปในโค้ดไพธอนให้โปรแกรมเมอร์อ่านโค้ดได้ง่าย\n",
    "\n",
    "มาลองเขียนโค้ดหลายๆบรรทัดดู"
   ]
  },
  {
   "cell_type": "code",
   "execution_count": null,
   "metadata": {
    "collapsed": true
   },
   "outputs": [],
   "source": [
    "# Calculating total number of chairs in FIBO building\n",
    "\n",
    "comp_room = 45\n",
    "faculty_room = 21\n",
    "meeting_room = 10\n",
    "room301 = 45\n",
    "\n",
    "print(\"Number of chairs in FIBO: \" + str(comp_room + faculty_room + meeting_room + room301))"
   ]
  },
  {
   "cell_type": "markdown",
   "metadata": {},
   "source": [
    "จากนั้นถ้าต้องการรัน test.py เราต้องเข้าไป command line (cmd) ใช้คำสั่ง cd เข้าไปยังโฟลเดอร์ที่เก็บ test.py ไว้แล้วพิมพ์คำสั่งต่อไปนี้\n",
    "\n",
    "`python test.py`"
   ]
  },
  {
   "cell_type": "markdown",
   "metadata": {},
   "source": [
    "เราก็จะสามารถรัน script ที่เราเขียนโดยให้ python compiler ประมวลผลออกมา"
   ]
  },
  {
   "cell_type": "markdown",
   "metadata": {},
   "source": [
    "# การเขียน Function\n",
    "\n",
    "ฟังก์ชันคือ code block (โค้ดหลายๆบรรทัดรวมกัน) ที่สามารถนำกลับมาใช้ซ้ำๆ ได้ ฟังก์ชันเป็นคอนเซ็ปท์พื้นฐานของโปรแกรมมิ่งที่ทุกคนจะต้องทราบและจะต้องเขียนให้ได้\n",
    "\n",
    "![Function](./images/function.jpg)\n",
    "\n",
    "ฟังก์ชันคือกระบวนการที่รับค่าจาก input แล้วเอามาประมวลผลออกมาเป็น output\n",
    "a คือตัวแปรที่เก็บค่าของ input ค่าของ a จะเป็นอะไรก็ได้\n",
    "ฟังก์ชันจะเอาค่าที่เก็บใน a มาประมวลผล\n",
    "\n",
    "![Anatomy of Functions](./images/function2.jpg)"
   ]
  },
  {
   "cell_type": "markdown",
   "metadata": {},
   "source": [
    "โค้ดบรรทัดที่ 2\n",
    "\n",
    "def: เป็นคีย์เวิร์ด ที่บ่งบอกว่าโค้ดของฟังก์ชันเริ่มแล้ว\n",
    "\n",
    "func_name: คือชื่อฟังก์ชัน ชื่อจะเป็นอะไรก็ได้ \n",
    "\n",
    "var1, var2: เรียกว่า arguments คือค่าที่ฟังก์ชันนี้รับเป็น input จะมีกี่ค่าก็ได้และชื่ออะไรก็ได้\n",
    "\n",
    "การ define function จะต้องจบด้วยเครื่องหมายโคลอน : เสมอ\n",
    "\n",
    "โค้ดบรรทัดที่ 3 และ 4 เป็น code block ที่อยู่ในฟังก์ชัน จะมีกี่บรรทัดก็ได้ แต่จะต้องมีย่อหน้าก่อนหน้าโค้ดบรรทัดที่อยู่ภายในฟังก์ชัน\n",
    "\n",
    "โค้ดบรรทัดที่ 3 คือวิธีการประมวลผลของฟังก์ชัน ที่เราสามารถนำเอาตัวแปรที่เป็น input (var1 และ var2) มาทำอะไรก็ได้\n",
    "\n",
    "โค้ดบรรทัดที่ 4 คำสั่ง return คือคำส่ังที่ให้ output หรือผลลัพธ์ของฟังก์ชันเวลาที่เราเรียกใช้ฟังก์ชัน\n",
    "\n",
    "เมื่อใช้คีย์เวิร์ด return หมายถึงการ define function จบแล้ว ถ้าเราพิมพ์อะไรอะไรก็ตามหลังจาก return และใส่ย่อหน้า ไพธอนจะไม่รันสิ่งที่เราพิมพ์"
   ]
  },
  {
   "cell_type": "markdown",
   "metadata": {},
   "source": [
    "## ตัวอย่างการเขียนฟังก์ชัน\n",
    "\n",
    "เมื่อเราเขียนฟังก์ชันเสร็จแล้วสามารถเรียกฟังก์ชันนั้นมาลองใช้งานดูเพื่อทดสอบว่าฟังก์ชันทำงานตามที่เราคาดหวังไว้หรือไม่ เราควรจะทดสอบฟังก์ชันของเราโดยใส่ input เข้าไปหลายๆแบบเพื่อให้แน่ใจว่ามันทำงานถูกต้อง"
   ]
  },
  {
   "cell_type": "code",
   "execution_count": 9,
   "metadata": {
    "collapsed": false
   },
   "outputs": [
    {
     "name": "stdout",
     "output_type": "stream",
     "text": [
      "12\n",
      "30\n"
     ]
    }
   ],
   "source": [
    "def rec_area(width, height):\n",
    "    \"\"\"\n",
    "    This function calculates the area of a rectangle. \n",
    "    input: width and height.\n",
    "    output: area of the rectangle.\n",
    "    \"\"\"\n",
    "    return width*height\n",
    "\n",
    "print(rec_area(3,4))\n",
    "print(rec_area(5,6))\n",
    "    "
   ]
  },
  {
   "cell_type": "code",
   "execution_count": 10,
   "metadata": {
    "collapsed": false
   },
   "outputs": [
    {
     "name": "stdout",
     "output_type": "stream",
     "text": [
      "21.0\n",
      "34.0\n"
     ]
    }
   ],
   "source": [
    "def trap_area(base1, base2, height):\n",
    "    \"\"\"\n",
    "    This function calculates the area of a trapezoid.\n",
    "    input: the lengths of the two bases of the trapezoid and the height.\n",
    "    output: area of the trapezoid.\n",
    "    \"\"\"\n",
    "    a = (base1+base2)/2\n",
    "    return a*height\n",
    "\n",
    "print(trap_area(3,4,6))\n",
    "print(trap_area(7,10,4))"
   ]
  },
  {
   "cell_type": "markdown",
   "metadata": {},
   "source": [
    "จะเห็นว่าการย่อหน้า หรือที่เรียกว่า whitespace นั้นสำคัญมากสำหรับการเขียนโปรแกรมไพธอน เพราะว่าการย่อหน้าเป็นการบอกไพธอนว่าโค้ดบรรทัดนี้อยู่ในฟังก์ชัน หรืออยู่นอกฟังก์ชัน โค้ดที่อยู่นอกฟังก์ชันจะไม่ถูกประมวลผลเวลาที่เราเรียกใช้ฟังก์ชัน ควรใช้ปุ่ม tab ในการสร้างย่อหน้า จะง่ายกว่าใช้ปุ่ม spacebar\n",
    "\n",
    "โปรดสังเกตว่าโดยปกติการเขียนโค้ดและเขียนฟังก์ชัน โปรแกรมเมอร์มักจะใส่ comment (โน้ตสั้นๆว่าโค้ดนั้นทำอะไร หรือฟังก์ชันนั้นใช้อย่างไร) เพื่อให้ผู้ร่วมงานอ่านโค้ดเข้าใจง่ายมากขึ้น หรือบางทีเรากลับมาอ่านโค้ดตัวเองจะเข้าใจง่ายขึ้น ควรฝึกเขียน comment ให้เป็นนิสัย"
   ]
  },
  {
   "cell_type": "markdown",
   "metadata": {},
   "source": [
    "### แบบฝึกหัด\n",
    "#### ลองเขียนฟังก์ชันด้วยตนเอง\n",
    "\n",
    "เขียนฟังก์ชันที่ชื่อว่า first_last ที่รับ arguments ที่เป็นสตริงสองค่า คือ first_name กับ last_name\n",
    "ฟังก์ชันนี้ให้ผลลัพธ์เป็นสตริงที่เอาชื่อจริงและนามสกุลมาต่อกัน\n",
    "\n",
    "ตัวอย่างเช่น\n",
    "```\n",
    ">>> first_last(\"Wichai\", \"Jaidee\")\n",
    "\"Wichai Jaidee\"\n",
    ">>> first_last(\"John\", \"Doe\")\n",
    "\"John Doe\"\n",
    "```"
   ]
  },
  {
   "cell_type": "markdown",
   "metadata": {},
   "source": [
    "# Errors \n",
    "\n",
    "เวลาที่เราเขียนโค้ดผิด ไพธอนจะให้ error ซึ่งบอกเราว่าเขียนผิดที่ใด ให้ใช้สิ่งที่ไพธอนบอกมาในการแก้ไขโค้ดให้ถูก ยกตัวอย่างเช่น"
   ]
  },
  {
   "cell_type": "code",
   "execution_count": 8,
   "metadata": {
    "collapsed": false
   },
   "outputs": [
    {
     "ename": "TypeError",
     "evalue": "trap_area() missing 1 required positional argument: 'height'",
     "output_type": "error",
     "traceback": [
      "\u001b[0;31m---------------------------------------------------------------------------\u001b[0m",
      "\u001b[0;31mTypeError\u001b[0m                                 Traceback (most recent call last)",
      "\u001b[0;32m<ipython-input-8-1420bc6fcdd1>\u001b[0m in \u001b[0;36m<module>\u001b[0;34m()\u001b[0m\n\u001b[1;32m      3\u001b[0m     \u001b[0;32mreturn\u001b[0m \u001b[0ma\u001b[0m\u001b[0;34m*\u001b[0m\u001b[0mheight\u001b[0m\u001b[0;34m\u001b[0m\u001b[0m\n\u001b[1;32m      4\u001b[0m \u001b[0;34m\u001b[0m\u001b[0m\n\u001b[0;32m----> 5\u001b[0;31m \u001b[0mprint\u001b[0m\u001b[0;34m(\u001b[0m\u001b[0mtrap_area\u001b[0m\u001b[0;34m(\u001b[0m\u001b[0;36m3\u001b[0m\u001b[0;34m,\u001b[0m\u001b[0;36m4\u001b[0m\u001b[0;34m)\u001b[0m\u001b[0;34m)\u001b[0m\u001b[0;34m\u001b[0m\u001b[0m\n\u001b[0m",
      "\u001b[0;31mTypeError\u001b[0m: trap_area() missing 1 required positional argument: 'height'"
     ]
    }
   ],
   "source": [
    "def trap_area(base1, base2, height):\n",
    "    a = (base1+base2)/2\n",
    "    return a*height\n",
    "\n",
    "print(trap_area(3,4))"
   ]
  },
  {
   "cell_type": "markdown",
   "metadata": {},
   "source": [
    "ตัวอย่างข้างบนให้ error ที่บอกว่า TypeError และชี้ว่าความผิดพลาดอยู่ที่บรรทัดที่ 5\n",
    "\n",
    "ในข้อความเขียนว่า trap_area() missing 1 required positional argument: 'height'\n",
    "\n",
    "ซึ่งแปลว่าตอนที่เราเรียก trap_area ฟังก์ชันเราใส่ arguments แค่สองตัว ทั้งๆที่ควรจะมี arguments 3 ตัว\n",
    "\n",
    "สังเกตข้อความใน error เสมอแล้วใช้ข้อความนั้นในการแก้ไขโค้ดของเราไม่ให้เกิด error ขึ้นอีก"
   ]
  },
  {
   "cell_type": "markdown",
   "metadata": {},
   "source": [
    "## ฟังก์ชันที่ใช้จัดการกับ string\n",
    "\n",
    "ใน codecademy.com เราได้เรียนรู้บางฟังก์ชันที่ใช้จัดการกับ string เช่น `lower()` และ `upper()` ที่เปลี่ยนสตริงเป็นตัวพิมพ์เล็กหรือตัวพิมพ์ใหญ่ และฟังก์ชัน `len()` ที่บอกความยาวของ string"
   ]
  },
  {
   "cell_type": "code",
   "execution_count": 4,
   "metadata": {
    "collapsed": false
   },
   "outputs": [
    {
     "name": "stdout",
     "output_type": "stream",
     "text": [
      "ryan\n",
      "RYAN\n",
      "4\n"
     ]
    }
   ],
   "source": [
    "a = \"Ryan\"\n",
    "print(a.lower())\n",
    "print(a.upper())\n",
    "\n",
    "print(len(a))"
   ]
  },
  {
   "cell_type": "markdown",
   "metadata": {},
   "source": [
    "นอกจากนี้เรายังได้เห็นตัวอย่างของ variable casting (การเปลี่ยนประเภทของตัวแปร) เช่นการเปลี่ยนตัวเลขไปเป็น string"
   ]
  },
  {
   "cell_type": "code",
   "execution_count": 7,
   "metadata": {
    "collapsed": false
   },
   "outputs": [
    {
     "name": "stdout",
     "output_type": "stream",
     "text": [
      "5\n",
      "<class 'int'>\n",
      "<class 'str'>\n"
     ]
    }
   ],
   "source": [
    "print(str(5))\n",
    "print(type(5))\n",
    "print(type(str(5)))"
   ]
  },
  {
   "cell_type": "markdown",
   "metadata": {},
   "source": [
    "เราสามารถเปลี่ยนตัวแปรเป็นประเภท `float` หรือ `int` ได้เช่นกัน"
   ]
  },
  {
   "cell_type": "code",
   "execution_count": 9,
   "metadata": {
    "collapsed": false
   },
   "outputs": [
    {
     "name": "stdout",
     "output_type": "stream",
     "text": [
      "5\n",
      "55\n",
      "5.0\n",
      "5.3\n"
     ]
    }
   ],
   "source": [
    "print(int(5.1))\n",
    "print(int(\"55\"))\n",
    "print(float(5))\n",
    "print(float(\"5.3\"))"
   ]
  },
  {
   "cell_type": "markdown",
   "metadata": {},
   "source": [
    "## Platform สำหรับส่งงาน (การสอบและการบ้าน)\n",
    "\n",
    "เรามีโปรแกรมที่สำหรับตรวจการบ้านและสำหรับส่งข้อสอบเขียนโปรแกรม วันนี้จะมาลองใช้โปรแกรมนี้ดูเพื่อที่เราจะได้คุ้นเคยก่อนสอบจริง\n",
    "\n",
    "* เข้าเว็บนี้: 10.61.3.213 แล้วกด sign up เพื่อสร้าง account\n",
    "* กดเข้าไปที่ \"FRA141 2559 1\"\n",
    "* เข้าไปที่ Test assignment\n",
    "* ลอง submit ไฟล์ test.py ที่เราเขียนฟังก์ชัน first_last เข้าไปดูว่าเราได้คะแนนหรือเปล่า"
   ]
  },
  {
   "cell_type": "markdown",
   "metadata": {},
   "source": [
    "## ลองเขียนฟังก์ชันส่งเอง"
   ]
  },
  {
   "cell_type": "markdown",
   "metadata": {},
   "source": [
    "เขียนฟังก์ชันที่ชื่อว่า เขียนฟังก์ชันชื่อ my_print ที่รับตัวแปรเป็นตัวเลขจำนวนเต็ม (number) และ string หนึ่งตัว (thing) แล้วให้ผลลัพธ์ “I have {number} {thing}”\n",
    "\n",
    "ตัวอย่าง\n",
    "```\n",
    ">>> my_print(3, ‘cats’)\n",
    "‘I have 3 cats’\n",
    "```"
   ]
  }
 ],
 "metadata": {
  "kernelspec": {
   "display_name": "Python 3",
   "language": "python",
   "name": "python3"
  },
  "language_info": {
   "codemirror_mode": {
    "name": "ipython",
    "version": 3
   },
   "file_extension": ".py",
   "mimetype": "text/x-python",
   "name": "python",
   "nbconvert_exporter": "python",
   "pygments_lexer": "ipython3",
   "version": "3.5.1"
  }
 },
 "nbformat": 4,
 "nbformat_minor": 0
}
