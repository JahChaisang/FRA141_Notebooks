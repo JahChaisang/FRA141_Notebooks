{
 "cells": [
  {
   "cell_type": "markdown",
   "metadata": {},
   "source": [
    "## Review Conditional & Control Flow\n",
    "\n",
    "**Comparators** ใช้ในการเปรียบเทียบค่าสองค่าแล้วให้ผลลัพธ์เป็น `True` หรือ `False` comparators หลักในการเขียนโปรแกรมมีหกตัว\n",
    "\n",
    "* เท่ากัน (`==`)\n",
    "* ไม่เท่ากัน (`!=`)\n",
    "* น้อยกว่า (`<`)\n",
    "* น้อยกว่า หรือเท่ากับ (`<=`)\n",
    "* มากกว่า (`>`)\n",
    "* มากกว่า หรือเท่ากับ (`>=`)\n",
    "\n",
    "\n",
    "ยกตัวอย่างเช่น"
   ]
  },
  {
   "cell_type": "code",
   "execution_count": 4,
   "metadata": {
    "collapsed": false
   },
   "outputs": [
    {
     "data": {
      "text/plain": [
       "True"
      ]
     },
     "execution_count": 4,
     "metadata": {},
     "output_type": "execute_result"
    }
   ],
   "source": [
    "100 == 10**2"
   ]
  },
  {
   "cell_type": "code",
   "execution_count": 5,
   "metadata": {
    "collapsed": false
   },
   "outputs": [
    {
     "data": {
      "text/plain": [
       "False"
      ]
     },
     "execution_count": 5,
     "metadata": {},
     "output_type": "execute_result"
    }
   ],
   "source": [
    "(10+17) == 3**16"
   ]
  },
  {
   "cell_type": "markdown",
   "metadata": {},
   "source": [
    "**Boolean operators** ใช้ในการหาค่าความจริงเมื่อนำประพจน์สองประพจน์มาผสมกัน โดย operator นี้มีอยู่สามตัว\n",
    "\n",
    "* `and` จะเป็นจริงเมื่อทั้งสองประพจน์เป็นจริง\n",
    "* `or` จะเป็นจริงเมื่อประพจน์ใดประพจน์หนึ่งเป็นจริง\n",
    "* `not` จะทำให้ประพจน์มีความหมายตรงข้าม\n",
    "\n",
    "\n",
    "True and True is True<br>\n",
    "True and False is False<br>\n",
    "False and True is False<br>\n",
    "False and False is False<br>\n",
    "\n",
    "True or True is True<br>\n",
    "True or False is True<br>\n",
    "False or True is True<br>\n",
    "False or False is False<br>\n",
    "\n",
    "Not True is False<br>\n",
    "Not False is True<br>\n",
    "\n",
    "\n",
    "ยกตัวอย่างเช่น"
   ]
  },
  {
   "cell_type": "code",
   "execution_count": 12,
   "metadata": {
    "collapsed": false
   },
   "outputs": [
    {
     "data": {
      "text/plain": [
       "False"
      ]
     },
     "execution_count": 12,
     "metadata": {},
     "output_type": "execute_result"
    }
   ],
   "source": [
    "-(-(-(-2))) == -2 and 4 >= 16**0.5"
   ]
  },
  {
   "cell_type": "code",
   "execution_count": 8,
   "metadata": {
    "collapsed": false
   },
   "outputs": [
    {
     "data": {
      "text/plain": [
       "False"
      ]
     },
     "execution_count": 8,
     "metadata": {},
     "output_type": "execute_result"
    }
   ],
   "source": [
    "19%4 != 300/10 and False"
   ]
  },
  {
   "cell_type": "markdown",
   "metadata": {},
   "source": [
    "**if and else statement** มีรูปแบบการใช้ดังนี้\n",
    "```\n",
    "if some_function():\n",
    "    # block line one\n",
    "    # block line two\n",
    "    # et cetera\n",
    "```\n",
    "\n",
    "ในตัวอย่างข้างต้น ถ้า `some_function()` มีผลลัพธ์เป็น `True` โค้ดที่ถูกย่อหน้าอยู่ภายในบล๊อคจะถูกรัน ถ้าหากว่า `some_function()` มีผลลัพธ์เป็น `False` โค้ดที่ถูกย่อหน้าอยู่ภายในบล๊อคก็จะโดนข้ามไป\n",
    "\n",
    "ยกตัวอย่างเช่น"
   ]
  },
  {
   "cell_type": "code",
   "execution_count": 15,
   "metadata": {
    "collapsed": false
   },
   "outputs": [
    {
     "name": "stdout",
     "output_type": "stream",
     "text": [
      "Enter an integer : 23\n",
      "Congratulations, you guessed it.\n",
      "(but you do not win any prizes!)\n"
     ]
    }
   ],
   "source": [
    "number = 23\n",
    "guess = int(input('Enter an integer : '))\n",
    "\n",
    "if guess == number:\n",
    "    print('Congratulations, you guessed it.')\n",
    "else:\n",
    "    print('Sorry, you are wrong')"
   ]
  },
  {
   "cell_type": "markdown",
   "metadata": {},
   "source": [
    "** if, elif, else statements ** เป็นการเช็ค conditions แบบเป็นลำดับขั้น ยกตัวอย่างเช่น"
   ]
  },
  {
   "cell_type": "code",
   "execution_count": 16,
   "metadata": {
    "collapsed": false
   },
   "outputs": [
    {
     "name": "stdout",
     "output_type": "stream",
     "text": [
      "Enter an integer : 15\n",
      "No, lower.\n",
      "Done\n"
     ]
    }
   ],
   "source": [
    "number = 14\n",
    "guess = int(input('Enter an integer : '))\n",
    "\n",
    "if guess == number:\n",
    "    print('Congratulations, you guessed it.')\n",
    "elif guess < number:\n",
    "    print('No, higher.')\n",
    "else:\n",
    "    print('No, lower.')\n",
    "\n",
    "print('Done')"
   ]
  },
  {
   "cell_type": "markdown",
   "metadata": {},
   "source": [
    "## Review การ import python module เข้ามาใช้\n",
    "\n",
    "Python Standard Library คือกลุ่มฟังก์ชันจำนวนมหาศาลที่อยู่ในไพธอนที่เราสามารถเรียกใช้ได้โดยไม่ต้อง install อะไรใดๆ ดูข้อมูลเพิ่มเติมที่นี่\n",
    "\n",
    "https://docs.python.org/2/library/\n",
    "\n",
    "ฟังก์ชันที่ไม่ต้อง import อะไรเข้ามาก็ใช้ได้เรียกว่า built-in functions ซึ่งแปลว่าเป็นฟังก์ชันที่ไพธอนมีอยู่แล้วในตัว compiler หลัก ส่วนฟังก์ชันอื่นๆใน standard library เราต้องเรียกมันเข้ามาโดยใช้คำสั่ง import\n",
    "\n",
    "ในภาษาไพธอน จะใช้คำว่า module แทนคำว่า library ถ้าเจอคำนี้ไม่ต้องงง module ก็คล้ายกับ library ที่เรียกกันในภาษาซี คือ กลุ่มฟังก์ชันจำนวนมากที่มีเขียนไว้แล้ว เราสามารถขอยืมใช้ได้ ไม่ต้องเขียนเอง\n",
    "\n",
    "เรามาลองศึกษาวิธีการ import ดูใน python shell\n",
    "\n",
    "สังเกตว่าฟังก์ชันอย่าง square root ไม่ได้มีอยู่แล้วใน ไพธอน สมมติเราลองเรียกฟังก์ชัน `sqrt()` ดู เราจะได้ error"
   ]
  },
  {
   "cell_type": "code",
   "execution_count": 19,
   "metadata": {
    "collapsed": false
   },
   "outputs": [
    {
     "ename": "NameError",
     "evalue": "name 'sqrt' is not defined",
     "output_type": "error",
     "traceback": [
      "\u001b[0;31m---------------------------------------------------------------------------\u001b[0m",
      "\u001b[0;31mNameError\u001b[0m                                 Traceback (most recent call last)",
      "\u001b[0;32m<ipython-input-19-718d7f173e1d>\u001b[0m in \u001b[0;36m<module>\u001b[0;34m()\u001b[0m\n\u001b[0;32m----> 1\u001b[0;31m \u001b[0msqrt\u001b[0m\u001b[0;34m(\u001b[0m\u001b[0;36m4\u001b[0m\u001b[0;34m)\u001b[0m\u001b[0;34m\u001b[0m\u001b[0m\n\u001b[0m",
      "\u001b[0;31mNameError\u001b[0m: name 'sqrt' is not defined"
     ]
    }
   ],
   "source": [
    "sqrt(4)"
   ]
  },
  {
   "cell_type": "markdown",
   "metadata": {},
   "source": [
    "ถ้าต้องการจะเรียก `sqrt()` จะต้อง import module ที่ชื่อ math ซึ่งมีฟังก์ชัน `sqrt()` อยู่ภายใน"
   ]
  },
  {
   "cell_type": "code",
   "execution_count": 23,
   "metadata": {
    "collapsed": false
   },
   "outputs": [
    {
     "name": "stdout",
     "output_type": "stream",
     "text": [
      "2.0\n",
      "3.2188758248682006\n"
     ]
    }
   ],
   "source": [
    "import math\n",
    "print(math.sqrt(4))\n",
    "print(math.log(25))"
   ]
  },
  {
   "cell_type": "markdown",
   "metadata": {},
   "source": [
    "ถ้าเราต้องการที่จะแค่เรียกใช้ฟังก์ชัน `sqrt` และไม่อยากจะต้องพิมพ์ `math.sqrt()` ทุกๆครั้งที่เรียกใช้ `sqrt()` เราสามารถดึงแค่ฟังก์ชันบางตัวออกจาก module ได้ ใช้ syntax เช่น \n",
    "\n",
    "`from math import sqrt`\n",
    "\n",
    "เมื่อเราต้องการใช้ `sqrt` สามารถเรียกใช้ได้เลยโดยไม่ต้องพิมพ์ `math.sqrt()`"
   ]
  },
  {
   "cell_type": "code",
   "execution_count": 20,
   "metadata": {
    "collapsed": false
   },
   "outputs": [
    {
     "data": {
      "text/plain": [
       "2.0"
      ]
     },
     "execution_count": 20,
     "metadata": {},
     "output_type": "execute_result"
    }
   ],
   "source": [
    "from math import sqrt\n",
    "sqrt(4)"
   ]
  },
  {
   "cell_type": "markdown",
   "metadata": {},
   "source": [
    "หากเราต้องการ import ทุกคำสั่งใน module นั้นๆเราสามารถประกาศได้โดยใช้\n",
    " \n",
    "`from (library name) import *`\n",
    "\n",
    "เช่น"
   ]
  },
  {
   "cell_type": "code",
   "execution_count": 24,
   "metadata": {
    "collapsed": false
   },
   "outputs": [
    {
     "name": "stdout",
     "output_type": "stream",
     "text": [
      "2.0\n",
      "3.2188758248682006\n"
     ]
    }
   ],
   "source": [
    "from math import *\n",
    "print(sqrt(4))\n",
    "print(log(25))"
   ]
  },
  {
   "cell_type": "markdown",
   "metadata": {},
   "source": [
    "การ `import` ทุกสิ่งทุกอย่างบางทีก็เป็นสิ่งที่ไม่ดี เพราะว่าเมื่อทำเช่นนี้โปรแกรมของเราจะมีชื่อ ฟังก์ชันและตัวแปรเยอะแยะไปหมดที่อาจจะทำให้เกิดความสับสน\n",
    "\n",
    "สมมติว่าเราเขียนฟังก์ชันของเราเองชื่อว่า `sqrt` แล้วเราใช้คำสั่ง `import math` แบบนี้เราจะมีฟังก์ชัน `sqrt()` และ `math.sqrt()` ที่อาจจะทำงานไม่เหมือนกัน ฟังก์ชัน `sqrt()` ที่เราเขียนไปก็ยังอยู่โอเค\n",
    "\n",
    "ตัวอย่าง\n"
   ]
  },
  {
   "cell_type": "code",
   "execution_count": 21,
   "metadata": {
    "collapsed": false
   },
   "outputs": [
    {
     "name": "stdout",
     "output_type": "stream",
     "text": [
      "2.0\n",
      "square root of 4\n"
     ]
    }
   ],
   "source": [
    "from math import sqrt\n",
    "def sqrt(number):\n",
    "    return \"square root of \" + str(number)\n",
    "\n",
    "print(math.sqrt(4))\n",
    "print(sqrt(4))"
   ]
  },
  {
   "cell_type": "markdown",
   "metadata": {},
   "source": [
    "แต่ถ้าเราใช้คำสั่ง `from math import *` เราจะมีฟังก์ชัน `sqrt()` สองอันและจะทำให้เกิดความสับสน\n",
    "\n",
    "ถ้าเราใช้คำสั่ง `from module import *` กับหลายๆ modules อาจจะทำให้สับสนและไม่แน่ใจว่าคำสั่งอันไหนเป็นอันไหนกันแน่\n",
    "\n",
    "โดยทั่วไป ควรใช้คำสั่ง `import module` แล้วเรียกฟังก์ชันด้วยคำสั่ง `module.function` จะดีกว่า\n",
    "\n",
    "ถ้าชื่อโมดูลยาวเกินไปสามารถใช้คำสั่ง `import module as name` เพื่อเปลี่ยนชื่อ module ได้ เช่น"
   ]
  },
  {
   "cell_type": "code",
   "execution_count": 25,
   "metadata": {
    "collapsed": false
   },
   "outputs": [
    {
     "name": "stdout",
     "output_type": "stream",
     "text": [
      "4.898979485566356\n"
     ]
    }
   ],
   "source": [
    "import math as m\n",
    "print(m.sqrt(24))"
   ]
  },
  {
   "cell_type": "markdown",
   "metadata": {},
   "source": [
    "### ตัวอย่างการใช้ module อื่นๆ"
   ]
  },
  {
   "cell_type": "code",
   "execution_count": 31,
   "metadata": {
    "collapsed": false
   },
   "outputs": [
    {
     "name": "stdout",
     "output_type": "stream",
     "text": [
      "Enter an integer : 22\n",
      "No, higher.\n",
      "The right answer is: 66\n"
     ]
    }
   ],
   "source": [
    "import random\n",
    "\n",
    "number = random.randrange(1, 100, 1)\n",
    "guess = int(input('Enter an integer : '))\n",
    "\n",
    "if guess == number:\n",
    "    print('Congratulations, you guessed it.')\n",
    "elif guess < number:\n",
    "    print('No, higher.')\n",
    "else:\n",
    "    print('No, lower.')\n",
    "\n",
    "print('The right answer is: ' + str(number) )"
   ]
  }
 ],
 "metadata": {
  "kernelspec": {
   "display_name": "Python 3",
   "language": "python",
   "name": "python3"
  }
 },
 "nbformat": 4,
 "nbformat_minor": 0
}
