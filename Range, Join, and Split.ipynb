{
 "cells": [
  {
   "cell_type": "markdown",
   "metadata": {},
   "source": [
    "## โจทย์ Midterm"
   ]
  },
  {
   "cell_type": "markdown",
   "metadata": {},
   "source": [
    "## Range\n",
    "\n",
    "มารู้จัก range กันดีกว่า range เป็นฟังก์ชันของ python ที่ใช้ในการสร้าง list เรามักจะใช้ range ในลักษณะที่คล้ายๆกับลิสต์ ดูตัวอย่างต่อไปนี้"
   ]
  },
  {
   "cell_type": "code",
   "execution_count": 1,
   "metadata": {
    "collapsed": false
   },
   "outputs": [
    {
     "data": {
      "text/plain": [
       "[0, 1, 2, 3, 4, 5]"
      ]
     },
     "execution_count": 1,
     "metadata": {},
     "output_type": "execute_result"
    }
   ],
   "source": [
    "range(6)"
   ]
  },
  {
   "cell_type": "code",
   "execution_count": 2,
   "metadata": {
    "collapsed": false
   },
   "outputs": [
    {
     "data": {
      "text/plain": [
       "[1, 2, 3, 4, 5]"
      ]
     },
     "execution_count": 2,
     "metadata": {},
     "output_type": "execute_result"
    }
   ],
   "source": [
    "range(1,6)"
   ]
  },
  {
   "cell_type": "code",
   "execution_count": 3,
   "metadata": {
    "collapsed": false
   },
   "outputs": [
    {
     "data": {
      "text/plain": [
       "[1, 4]"
      ]
     },
     "execution_count": 3,
     "metadata": {},
     "output_type": "execute_result"
    }
   ],
   "source": [
    "range(1,6,3)"
   ]
  },
  {
   "cell_type": "markdown",
   "metadata": {},
   "source": [
    "สรุปคือ เรามีวิธีเรียก range ได้สามแบบ\n",
    "```\n",
    "range(stop)\n",
    "range(start, stop)\n",
    "range(start, stop, step)\n",
    "```\n",
    "\n",
    "ในแต่ละแบบจะให้ผลลัพธ์เป็นลิสต์ที่เริ่มด้วยค่า `start` รันตัวเลขเพิ่มทีละ `step` ไปจนถึงค่า `stop` (แต่ไม่รวมค่า `stop`) ถ้าไม่ใส่ค่า `stop` และ `step` ไพธอนจะให้ค่า `start = 0` และ `step = 1`\n",
    "\n",
    "#### ลูปด้วย range\n",
    "\n",
    "เราสามารถใช้ `range` ในการลูปได้ เช่น\n",
    "\n",
    "โจทย์: เขียนฟังก์ชันที่ชื่อ `sum_over_integer` ที่รับตัวแปร `n` แล้วรีเทิร์นผลบวกตั้งแต่ `1` ถึง `n` แต่ไม่รวม `n` เช่น\n",
    "\n",
    "```\n",
    ">>> sum_over_integer(4)\n",
    "6 \n",
    "```\n",
    "เพราะ 1 + 2 + 3 = 6\n",
    "```\n",
    ">>> sum_over_integer(6)\n",
    "15\n",
    "```\n",
    "เพราะ 1 + 2 +3 + 4 + 5 = 15"
   ]
  },
  {
   "cell_type": "code",
   "execution_count": 4,
   "metadata": {
    "collapsed": false
   },
   "outputs": [
    {
     "name": "stdout",
     "output_type": "stream",
     "text": [
      "6\n",
      "15\n"
     ]
    }
   ],
   "source": [
    "def sum_over_integer(n):\n",
    "    s = 0\n",
    "    for i in range(n):\n",
    "        s = s+i\n",
    "    return s\n",
    "\n",
    "print(sum_over_integer(4))\n",
    "print(sum_over_integer(6))"
   ]
  },
  {
   "cell_type": "markdown",
   "metadata": {},
   "source": [
    "#### ลองแก้โค้ดข้างบน\n",
    "\n",
    "ถ้าเข้าใจโค้ดข้างบนแล้วคงไม่ยากที่จะทำโจทย์ต่อไปนี้\n",
    "\n",
    "โจทย์: เขียนฟังก์ชันที่ชื่อ `sum_from_to` ที่รับตัวแปรสองตัวคือ `n1` และ `n2` แล้วรีเทิร์นผลบวกของจำนวนจริงตั้งแต่ `n1` ไปจนถึง `n2` โดยรวม `n2` ด้วย เช่น\n",
    "\n",
    "```\n",
    ">>> sum_from_to(4,8)\n",
    "30\n",
    "```\n",
    "เพราะ 4 + 5 + 6 + 7 + 8 = 30\n",
    "\n",
    "\n",
    "#### สำหรับคนที่เข้าใจแล้ว\n",
    "\n",
    "ลองทำโจทย์ยากขึ้นไปอีกข้างล่างนี้\n",
    "\n",
    "โจทย์: เขียนฟังก์ชันชื่อ `extract_even` ที่รับตัวแปร `lst` ซึ่งเป็นลิสต์ของตัวเลข ฟังก์ชันนี้จะดึงตัวเลขออกมา ต่อเมื่อเลขนั้นเป็นเลขคู่และตำแหน่งของเลขนั้นเป็นเลขคู่ด้วย รีเทิร์นลิสต์ใหม่ที่มีสมาชิกเป็นตัวเลขที่ดึงออกมาทั้งหมด เช่น\n",
    "\n",
    "```\n",
    ">>> extract_even([2,3,5,17,6])\n",
    "[2,6]\n",
    "```\n",
    "เพราะ 2 เป็นเลขคู่ที่ตำแหน่ง 0 ซึ่งเป็นเลขคู่ และ 6 เป็นเลขคู่ที่ตำแหน่งที่ 4 ซึ่งเป็นเลขคู่\n",
    "\n",
    "```\n",
    ">>> extract_even([9,1,18,4,5,9,10])\n",
    "[18,10]\n",
    "```\n",
    "เพราะ 18 เป็นเลขคู่ที่ตำแหน่ง 2 ซึ่งเป็นเลขคู่ และ 10 เป็นเลขคู่ที่ตำแหน่งที่ 6 ซึ่งเป็นเลขคู่"
   ]
  },
  {
   "cell_type": "markdown",
   "metadata": {},
   "source": [
    "#### ใช้ range นับถอยหลัง\n",
    "\n",
    "ปกติถ้าเราใช้คำสั่ง `range` แล้วตั้งค่า `start` มากกว่า `stop` จะทำให้ได้ลิสต์ว่าง"
   ]
  },
  {
   "cell_type": "code",
   "execution_count": 13,
   "metadata": {
    "collapsed": false
   },
   "outputs": [
    {
     "data": {
      "text/plain": [
       "[]"
      ]
     },
     "execution_count": 13,
     "metadata": {},
     "output_type": "execute_result"
    }
   ],
   "source": [
    "range(10,1)"
   ]
  },
  {
   "cell_type": "markdown",
   "metadata": {},
   "source": [
    "แต่ถ้าเราตั้งเลข step เป็นลบ และ start มีค่ามากกว่า stop จะทำลิสต์ที่นับถอยหลังก็ได้ ตัวอย่างเช่น"
   ]
  },
  {
   "cell_type": "code",
   "execution_count": 12,
   "metadata": {
    "collapsed": false
   },
   "outputs": [
    {
     "data": {
      "text/plain": [
       "[10, 8, 6, 4, 2]"
      ]
     },
     "execution_count": 12,
     "metadata": {},
     "output_type": "execute_result"
    }
   ],
   "source": [
    "range(10,1,-2)"
   ]
  },
  {
   "cell_type": "markdown",
   "metadata": {},
   "source": [
    "#### ทำโจทย์\n",
    "\n",
    "โจทย์: เขียนฟังก์ชัน `find_last_e` ที่ค้นหาตัว e ตัวสุดท้ายของคำแล้วรีเทิร์นตำแหน่งของตัว e นั้น เช่น\n",
    "\n",
    "```\n",
    ">>> find_last_e('delicious grape')\n",
    "14\n",
    ">>> find_last_e('excellent elephant')\n",
    "12\n",
    "```"
   ]
  },
  {
   "cell_type": "markdown",
   "metadata": {},
   "source": [
    "## Join and Split\n",
    "\n",
    "ในไพธอนคำสั่ง join และ split เป็นคำสั่งที่มีประโยชน์มากๆ ลองดูตัวอย่างโค้ดต่อไปนี้เพื่อให้เข้าใจหลักการทำงานของ `join` และ `split`"
   ]
  },
  {
   "cell_type": "code",
   "execution_count": 25,
   "metadata": {
    "collapsed": false
   },
   "outputs": [
    {
     "data": {
      "text/plain": [
       "'directory1/directory2/filename'"
      ]
     },
     "execution_count": 25,
     "metadata": {},
     "output_type": "execute_result"
    }
   ],
   "source": [
    "\"/\".join(['directory1','directory2','filename'])"
   ]
  },
  {
   "cell_type": "code",
   "execution_count": 26,
   "metadata": {
    "collapsed": false
   },
   "outputs": [
    {
     "data": {
      "text/plain": [
       "['a', 'b', 'c', 'd']"
      ]
     },
     "execution_count": 26,
     "metadata": {},
     "output_type": "execute_result"
    }
   ],
   "source": [
    "\"a-b-c-d\".split(\"-\")"
   ]
  },
  {
   "cell_type": "markdown",
   "metadata": {},
   "source": [
    "สรุปคือ `join` ใช้ในรูปแบบ `str.join(list)` โดยคำสั่งนี้จะเอาสมาชิกของ `list` มาต่อกันโดยแต่จะตัวถูกคั่นด้วย `str`\n",
    "\n",
    "ส่วน `split` ใช้ในรูปแบบ `long.join(short)` โดยคำสั่งนี้จะแบ่งสตริง `long` ออกเป็นส่วนๆตรงตำแหน่งของสตริง `short` แล้วรีเทิร์นลิสต์ของตัวอักษรในแต่ละส่วน"
   ]
  },
  {
   "cell_type": "markdown",
   "metadata": {},
   "source": [
    "#### ทำโจทย์\n",
    "\n",
    "โจทย์: เขียนฟังก์ชัน word_count ที่หาจำนวนคำที่อยู่ในข้อความหนึ่งๆ ตัวอย่างเช่น\n",
    "\n",
    "```\n",
    ">>> word_count('I would like to go to a market')\n",
    "8\n",
    ">>> word_count('hello my name is john')\n",
    "5\n",
    "```\n",
    "\n",
    "โจทย์: เขียนฟังก์ชันชื่อ `gather_d_words` ที่รับค่าเป็นลิสต์ของคำ ฟังก์ชันนี้จะหาคำในลิสต์ที่ขึ้นต้นด้วยอักษร `d` แล้วนำคำเหล่านั้นมาต่อกันคั่นด้วย comma\n",
    "\n",
    "```\n",
    ">>> gather_d_words(['elephant','dog','cat','pig','deer','duck'])\n",
    "\"dog,deer,duck\"\n",
    ">>> gather_d_words(['david','john','matt','don','william'])\n",
    "\"david,don\"\n",
    "```\n",
    "\n",
    "โจทย์: เขียนฟังก์ชันชื่อ `double_split` ที่รับค่าสตริงที่มีฟอร์แมตแปลก คือมีคำหลายคำถูกคั่นด้วยเครื่องหมาย `//` หรือ `**` เช่น `hell**chic//rat//lisa**cow**what` ฟังก์ชันนี้จะสร้างลิสต์ที่รวบรวมคำ โดยไม่ได้สนใจเครื่องหมายที่คั่น ตัวอย่างเช่น\n",
    "\n",
    "```\n",
    ">>> double_split('hell**chic//rat//lisa**cow**what')\n",
    "['hell','chic','rat','lisa','cow','what']\n",
    ">>> double_split('wig**pic//kids**do')\n",
    "['wig','pic','kids','do']\n",
    "```"
   ]
  }
 ],
 "metadata": {
  "kernelspec": {
   "display_name": "Python 2",
   "language": "python",
   "name": "python2"
  },
  "language_info": {
   "codemirror_mode": {
    "name": "ipython",
    "version": 2
   },
   "file_extension": ".py",
   "mimetype": "text/x-python",
   "name": "python",
   "nbconvert_exporter": "python",
   "pygments_lexer": "ipython2",
   "version": "2.7.10"
  }
 },
 "nbformat": 4,
 "nbformat_minor": 1
}
