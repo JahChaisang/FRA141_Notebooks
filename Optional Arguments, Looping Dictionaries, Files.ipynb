{
 "cells": [
  {
   "cell_type": "markdown",
   "metadata": {},
   "source": [
    "## Required and optional arguments\n",
    "\n",
    "บางครั้งเราต้องการเรียกฟังก์ชันโดยที่ argument บางตัวได้ถูกกำหนดค่าไว้แล้ว (ค่า default) เราไม่จำเป็นต้องใส่ค่าสำหรับ argument เหล่านี้ นอกเสียจากว่าเราต้องการที่จะเปลี่ยนค่าของมัน ลองดูตัวอย่างต่อไปนี้\n",
    "\n",
    "สมมติเราเขียนฟังก์ชันที่ชื่อ `table` ที่ทำหน้าที่ในการสร้างตาราง โดย default ตารางนี้จะเป็นสีดำ และมีหนึ่งแถวหนึ่งคอลัมภ์"
   ]
  },
  {
   "cell_type": "code",
   "execution_count": 16,
   "metadata": {
    "collapsed": true
   },
   "outputs": [],
   "source": [
    "def create_table(name, color='black', row=1, column=1):\n",
    "    print(\"name: \" + name)\n",
    "    print(\"color: \" + color)\n",
    "    print(\"row: \" + str(row))\n",
    "    print(\"col: \" + str(column))"
   ]
  },
  {
   "cell_type": "markdown",
   "metadata": {},
   "source": [
    "ฟังก์ชันนี้มี **required argument** หนึ่งตัวคือ `name` ไม่ใส่ไม่ได้ จะเกิด error ยกตัวอย่างเช่น"
   ]
  },
  {
   "cell_type": "code",
   "execution_count": 22,
   "metadata": {
    "collapsed": false
   },
   "outputs": [
    {
     "ename": "TypeError",
     "evalue": "create_table() takes at least 1 argument (0 given)",
     "output_type": "error",
     "traceback": [
      "\u001b[0;31m---------------------------------------------------------------------------\u001b[0m",
      "\u001b[0;31mTypeError\u001b[0m                                 Traceback (most recent call last)",
      "\u001b[0;32m<ipython-input-22-a1476cab5a94>\u001b[0m in \u001b[0;36m<module>\u001b[0;34m()\u001b[0m\n\u001b[0;32m----> 1\u001b[0;31m \u001b[0mcreate_table\u001b[0m\u001b[0;34m(\u001b[0m\u001b[0;34m)\u001b[0m\u001b[0;34m\u001b[0m\u001b[0m\n\u001b[0m",
      "\u001b[0;31mTypeError\u001b[0m: create_table() takes at least 1 argument (0 given)"
     ]
    }
   ],
   "source": [
    "create_table()"
   ]
  },
  {
   "cell_type": "markdown",
   "metadata": {},
   "source": [
    "ใส่แค่ argument ตัวแรก ฟังก์ชันก็ถูกเรียกได้โดยไม่จำเป็นต้องใส่ argument ตัวอื่นๆ \n",
    "\n",
    "`color`, `row`, `column` เป็น **optional arguments** ใส่ก็ได้ ไม่ใส่ก็ได้"
   ]
  },
  {
   "cell_type": "code",
   "execution_count": 23,
   "metadata": {
    "collapsed": false
   },
   "outputs": [
    {
     "name": "stdout",
     "output_type": "stream",
     "text": [
      "name: pets\n",
      "color: black\n",
      "row: 1\n",
      "col: 1\n"
     ]
    }
   ],
   "source": [
    "create_table(\"pets\")"
   ]
  },
  {
   "cell_type": "markdown",
   "metadata": {},
   "source": [
    "ถ้าใส่ argument สองตัว ค่าที่สองจะถูก assign ให้ argument ตัวที่สองคือ color โดยอัตโนมัติ"
   ]
  },
  {
   "cell_type": "code",
   "execution_count": 18,
   "metadata": {
    "collapsed": false
   },
   "outputs": [
    {
     "name": "stdout",
     "output_type": "stream",
     "text": [
      "name: pets\n",
      "color: pink\n",
      "row: 1\n",
      "col: 1\n"
     ]
    }
   ],
   "source": [
    "create_table(\"pets\", \"pink\")"
   ]
  },
  {
   "cell_type": "markdown",
   "metadata": {},
   "source": [
    "เราสามารถกำหนดค่าให้ `color`, `row` หรือ `column` ได้ เพื่อแทนค่า default value "
   ]
  },
  {
   "cell_type": "code",
   "execution_count": 20,
   "metadata": {
    "collapsed": false
   },
   "outputs": [
    {
     "name": "stdout",
     "output_type": "stream",
     "text": [
      "name: fruits\n",
      "color: black\n",
      "row: 30\n",
      "col: 1\n"
     ]
    }
   ],
   "source": [
    "create_table(\"fruits\", row=30) "
   ]
  },
  {
   "cell_type": "markdown",
   "metadata": {},
   "source": [
    "ถ้าเราใส่ชื่อให้ argument `name` ก็ไม่จำเป็นต้องใส่ argument name เป็นอันดับแรกก็ได้"
   ]
  },
  {
   "cell_type": "code",
   "execution_count": 21,
   "metadata": {
    "collapsed": false
   },
   "outputs": [
    {
     "name": "stdout",
     "output_type": "stream",
     "text": [
      "name: books\n",
      "color: blue\n",
      "row: 1\n",
      "col: 1\n"
     ]
    }
   ],
   "source": [
    "create_table(color=\"blue\", name=\"books\")"
   ]
  },
  {
   "cell_type": "markdown",
   "metadata": {},
   "source": [
    "### แบบฝึกหัด\n",
    "\n",
    "\n",
    "ลองเขียนฟังก์ชันคำนวณราคาโรงแรม ชื่อ `hotel_price` โดยฟังก์ชันนี้รับตัวแปรสามตัว คือ price (ราคาต่อคนต่อคืน), people (จำนวนคนเข้าพัก), และ nights (จำนวนคืนที่พัก) ให้ people กับ nights เป็น optional arguments ที่มีค่าเป็น 1 ทั้งคู่\n",
    "\n",
    "ตัวอย่าง\n",
    "\n",
    "```\n",
    ">>> hotel_price(500, people=2)\n",
    "1000\n",
    ">>> hotel_price(1000)\n",
    "1000\n",
    ">>> hotel_price(800, nights=3)\n",
    "2400\n",
    "```\n"
   ]
  },
  {
   "cell_type": "markdown",
   "metadata": {},
   "source": [
    "## Looping through dictionaries\n",
    "\n",
    "เราได้เรียนการ loop ผ่าน lists ไปแล้ว แต่ยังไม่ได้เรียนการลูปผ่าน dictionaries\n",
    "\n",
    "ก่อนที่เราจะลูปผ่าน dictionary เราต้องนำเอาตัวแปรประเภท dictionary มาทำให้เป็นลิสต์เสียก่อน โดยใช้คำสั่ง .items()"
   ]
  },
  {
   "cell_type": "code",
   "execution_count": 4,
   "metadata": {
    "collapsed": false
   },
   "outputs": [
    {
     "name": "stdout",
     "output_type": "stream",
     "text": [
      "[('white rice', 15), ('garlic pork', 35), ('fried egg', 7), ('chicken basil', 35)]\n"
     ]
    }
   ],
   "source": [
    "menu = {\n",
    "    'chicken basil': 35,\n",
    "    'fried egg': 7,\n",
    "    'garlic pork': 35,\n",
    "    'white rice': 15\n",
    "}\n",
    "\n",
    "print(menu.items())"
   ]
  },
  {
   "cell_type": "markdown",
   "metadata": {},
   "source": [
    "จะเห็นว่าคำสั่ง .items() ทำให้ตัวแปรดิกชันนารีกลายเป็นลิสต์ของคู่อันดับที่ประกอบไปด้วย (key, value)\n",
    "\n",
    "จากนั้นเมื่อเราใช้ for loop เราจะต้องกำหนดตัวแปรภายในลูปสองตัวที่จะมาแทนที่ key และ value ในแต่ละลูป"
   ]
  },
  {
   "cell_type": "code",
   "execution_count": 7,
   "metadata": {
    "collapsed": false
   },
   "outputs": [
    {
     "name": "stdout",
     "output_type": "stream",
     "text": [
      "key: white rice\n",
      "value: 15\n",
      "\n",
      "key: garlic pork\n",
      "value: 35\n",
      "\n",
      "key: fried egg\n",
      "value: 7\n",
      "\n",
      "key: chicken basil\n",
      "value: 35\n",
      "\n"
     ]
    }
   ],
   "source": [
    "for key, value in menu.items():\n",
    "    print('key: ' + key)\n",
    "    print('value: ' + str(value) + '\\n')"
   ]
  },
  {
   "cell_type": "markdown",
   "metadata": {},
   "source": [
    "สมมติว่าเราจะเขียนโปรแกรมเพื่อตรวจดูว่าเมนูไหนราคาต่ำกว่า 30 บาท เราสามารถเขียนโปรแกรมได้ดังต่อไปนี้"
   ]
  },
  {
   "cell_type": "code",
   "execution_count": 11,
   "metadata": {
    "collapsed": false
   },
   "outputs": [
    {
     "name": "stdout",
     "output_type": "stream",
     "text": [
      "Menu under 30 bahts: white rice, fried egg\n"
     ]
    }
   ],
   "source": [
    "menu = {\n",
    "    'chicken basil': 35,\n",
    "    'fried egg': 7,\n",
    "    'garlic pork': 35,\n",
    "    'white rice': 15\n",
    "}\n",
    "\n",
    "lst = []\n",
    "for key, value in menu.items():\n",
    "    if value < 30:\n",
    "        lst.append(key)\n",
    "        \n",
    "print(\"Menu under 30 bahts: \" + ', '.join(lst))"
   ]
  },
  {
   "cell_type": "markdown",
   "metadata": {},
   "source": [
    "#### ถ้าเข้าใจแล้วลองทำโจทย์ต่อไปนี้\n",
    "\n",
    "เรากำลังไปกินข้าวที่ร้านป้าสี่คน มีป้าหนึ่งในสี่มาขอให้เราช่วยเขียนโปรแกรมให้หน่อย ถ้าใครเคยไปกินจะเห็นว่าเมนูป้าซับซ้อนมากๆ จนป้าเองก็มึน เลยจะต้องเขียนโปรแกรมเพื่อเสิร์ชหาเมนูที่จะกินว่ามันราคาเท่าไหร่กันแน่\n",
    "\n",
    "เขียนฟังก์ชันชื่อ `search_for_dish()` ที่รับค่าสตริงสองตัว `food` และ `meat` แล้วจะแสดงราคาออกมา ถ้ารายการนั้นไม่มีในเมนู ก็จะพิมพ์ว่า \"Sorry, that menu doesn't exist.\""
   ]
  },
  {
   "cell_type": "markdown",
   "metadata": {},
   "source": [
    "```\n",
    "menu = {\n",
    "    \"suki\" : {\"pork\" : 40, \"chicken\" : 40, \"seafood\" : 50},\n",
    "    \"fried rice\" : {\"pork\" : 35, \"chicken\" : 30, \"seafood\" : 45},\n",
    "    \"noodle soup\" : {\"pork\" : 30, \"chicken\" : 30, \"seafood\" : 40},\n",
    "    \"stirfry basil\" : {\"pork\" : 35, \"chicken\" : 35, \"seafood\" : 50, \"sausage\" : 30 },\n",
    "    \"stirfry chilli\" : {\"pork\" : 40, \"chicken\" : 40, \"seafood\" : 50, \"sausage\" : 30 },\n",
    "}\n",
    "\n",
    ">>> search_for_dish('suki', 'pork')\n",
    "40\n",
    ">>> search_for_dish('fried rice', 'sausage')\n",
    "Sorry, that menu doesn't exist.\n",
    "```"
   ]
  },
  {
   "cell_type": "markdown",
   "metadata": {},
   "source": [
    "## Reading files and writing into files\n",
    "\n",
    "สมมติเราเก็บข้อมูลไว้ในไฟล์ data.txt แล้วเราต้องการให้ไพธอนเปิดไฟล์นี้ขึ้นมาเพื่ออ่านข้อมูล สามารถทำได้โดยใช้คำสั่ง `open` แล้วใช้คำสั่ง `.read()` ในการอ่านเนื้อหาในไฟล์"
   ]
  },
  {
   "cell_type": "code",
   "execution_count": 13,
   "metadata": {
    "collapsed": false
   },
   "outputs": [
    {
     "name": "stdout",
     "output_type": "stream",
     "text": [
      "\n"
     ]
    }
   ],
   "source": [
    "f = open('data.txt', 'r')\n",
    "content = f.read()\n",
    "print(content)"
   ]
  },
  {
   "cell_type": "markdown",
   "metadata": {},
   "source": [
    "ในบางกรณี ถ้าอ่านไฟล์ทีละบรรทัดจะสะดวกกว่า เช่นไฟล์ที่เป็นข้อมูลแบบตาราง ยกตัวอย่างเช่นรายการข้างล่างนี้อาจจะเป็นข้อมูลในตารางที่เก็บจำนวนไอศกรีมแต่ละรสที่เหลืออยู่ในร้านเซเว่นอีเลเว่น ในแต่ละวัน\n",
    "\n",
    "```\n",
    "date,chocolate,strawberry,vanilla\n",
    "10/1/2016,4,6,7\n",
    "11/1/2016,5,4,1\n",
    "20/1/2016,1,4,5\n",
    "21/1/2016,2,2,2\n",
    "22/1/2016,1,4,5\n",
    "27/1/2016,2,1,3\n",
    "```\n",
    "\n",
    "เราสามารถอ่านข้อมูลออกมาทีละบรรทัดได้"
   ]
  },
  {
   "cell_type": "code",
   "execution_count": null,
   "metadata": {
    "collapsed": false
   },
   "outputs": [],
   "source": [
    "f = open('table.txt', 'r')\n",
    "content = f.readline()\n",
    "print('line 1: ' + content)\n",
    "\n",
    "content = f.readline()\n",
    "print('line 2: ' + content)"
   ]
  },
  {
   "cell_type": "markdown",
   "metadata": {},
   "source": [
    "และสามารถเขียน loop เพื่ออ่านไฟล์ทีละบรรทัดได้ด้วย"
   ]
  },
  {
   "cell_type": "code",
   "execution_count": null,
   "metadata": {
    "collapsed": true
   },
   "outputs": [],
   "source": [
    "for line in f2:\n",
    "    print(line)"
   ]
  },
  {
   "cell_type": "markdown",
   "metadata": {},
   "source": [
    "ถ้าต้องการเขียนข้อมูลใส่ในไฟล์จะต้องเปิดไฟล์ขึ้นมาเพื่อเขียนข้อความ ทำได้โดยการใส่ argument ตัวที่สองเป็น `'w'` แทนที่จะเป็น `'r'` จากนั้นใช้คำสั่ง `.write()` ในการเขียนข้อความลงไฟล์ "
   ]
  },
  {
   "cell_type": "code",
   "execution_count": 15,
   "metadata": {
    "collapsed": true
   },
   "outputs": [],
   "source": [
    "f = open('new_file.txt', 'w')\n",
    "f.write('hello world\\nhello Thailand')"
   ]
  },
  {
   "cell_type": "markdown",
   "metadata": {},
   "source": [
    "#### โหมดต่างๆในการเปิดไฟล์\n",
    "\n",
    "`'r'` เปิดไฟล์ขึ้นมาเพื่ออ่านเนื้อหาในไฟล์เท่านั้น\n",
    "\n",
    "`'w'` เปิดไฟล์ขึ้นมาเพื่อเขียนเนื้อหาลงในไฟล์ ถ้าไฟล์นั้นมีอยู่ก่อนแล้ว จะลบไฟล์ที่มีอยู่เดิมทิ้ง\n",
    "\n",
    "`'a'` เปิดไฟล์ขึ้นมาเพื่อเขียนเนื้อหาลงในไฟล์ โดยเนื้อหาที่เราเขียนจะถูกแอดลงท้ายไฟล์\n",
    "\n",
    "`'r+'` เปิดไฟล์ขึ้นมาเพื่อทั้งอ่านและเขียนเนื้อหา"
   ]
  },
  {
   "cell_type": "markdown",
   "metadata": {},
   "source": [
    "อ่านการทำงานของ input/output functions ได้จากลิงค์นี้ https://docs.python.org/2/tutorial/inputoutput.html"
   ]
  },
  {
   "cell_type": "markdown",
   "metadata": {},
   "source": [
    "### แบบฝึกหัด\n",
    "\n",
    "จากข้อมูลจำนวนไอศกรีมในเซเว่นข้างบน เขียนสคริปท์ที่สามารถนับจำนวนไอศกรีมที่เหลืออยู่ในแต่ละวันในเซเว่นได้ (จำนวนนี้คือทุกรสรวมกัน)"
   ]
  },
  {
   "cell_type": "markdown",
   "metadata": {},
   "source": [
    "#### Spam the world mini-project\n",
    "\n",
    "เราเป็นสแปมเมอร์และเราต้องการที่จะส่งอีเมลให้กับคนจำนวนมากๆ มาเขียนโปรแกรมทำสแปมอีเมลกันเถอะ\n",
    "\n",
    "ก่อนอื่นมาดูตัวอย่างข้อความในสแปมอีเมลที่เราจะส่ง\n",
    "\n",
    ">send to: johnmiller@gmail.com<br><br>Dear Mr. John Miller,<br><br>I am very happy to inform you that you have won a new iPhone which is worth $500. What a lucky guy you are! I urge you to quickly go to the website thisisnotaspam.com and enter your personal information to redeem your prize.<br><br>Sincerely,<br>Rick the Spammer\n",
    "\n",
    "เราเป็นสแปมเมอร์ที่ฉลาด ดังนั้นเราจะเขียนโค้ดเพื่อสร้างอีเมลจำนวนมาก แต่ละอีเมลจะต่างกันนิดหน่อย เช่น\n",
    "1. เราต้องแทนค่าอีเมล และชื่อของผู้รับอีเมล ซึ่งเราจะเอามาจากฐานข้อมูลที่เราไปขโมยมา (ชั่วจริงๆ)\n",
    "2. ถ้าคนรับอีเมลเป็นผู้หญิงเราต้องใช้คำนำหน้าชื่อ Mrs. แทนที่จะเป็น Mr. และแทนประโยค \"What a lucky guy you are!\" ด้วยประโยค \"What a lucky girl you are!\" \n",
    "3. ของรางวัลและเว็บไซท์ในแต่ละอีเมลจะเปลี่ยนไปเล็กน้อยเพื่อความเนียน เราจะสุ่มคำเหล่านี้ออกมา\n",
    "\n",
    "เราสามารถนำร่างอีเมลที่เราเขียนขึ้นมาแยกส่วนเป็นฟอร์แมตดังเช่นข้างล่าง สิ่งที่อยู่ในปีกกา `{}` เป็นส่วนที่เราจะเปลี่ยนในแต่ละอีเมล\n",
    "\n",
    ">Dear {Mr., Mrs.} {name} {last name},<br><br>I am very happy to inform you have you have won a new {iPhone 7, iPad Air, Samsung Galaxy Note 7} which is worth $500. What a lucky {guy, girl} you are! I urge you to quickly go to the website {thisisnotaspam.com, totallynotlying.com, hoorayiphone.com, luckypeople.com} and enter your personal information to redeem your prize.<br><br>Sincerely,<br>Rick the Spammer\n",
    "\n",
    "และฐานข้อมูลของเราอยู่ข้างล่างนี้\n",
    "\n",
    "```\n",
    "John,Miller,Male,john.miller@gmail.com\n",
    "Sara,Doe,Female,sarah45@hotmail.com\n",
    "David,Attenbourough,Male,davehaha@hotmail.com\n",
    "Collin,Roll,Male,cryeah@yahoomail.com\n",
    "Ben,Biggs,Male,bbgun0098@hotmail.com\n",
    "Shannon,Lanes,Female,shanforever@gmail.com\n",
    "Abagail,Lorens,Female,abbie9985@hotmail.com\n",
    "```\n",
    "\n",
    "เขียนโปรแกรมเพื่อโหลดไฟล์ฐานข้อมูลมาแล้วสร้างอีเมลให้กับผู้ใช้ทุกคนในฐานข้อมูล นักศึกษาอาจจะเขียนข้อความจากอีเมลของแต่ละคนเก็บไว้ในไฟล์แยกจากกันเพื่อให้สามารถนำไปใช้ต่อได้ง่ายๆ\n",
    "\n",
    "คำใบ้: คำสั่งสองคำสั่งที่อาจจะมีประโยชน์ในการทำโจทย์นี้"
   ]
  },
  {
   "cell_type": "code",
   "execution_count": 1,
   "metadata": {
    "collapsed": false
   },
   "outputs": [
    {
     "data": {
      "text/plain": [
       "'Hello, John'"
      ]
     },
     "execution_count": 1,
     "metadata": {},
     "output_type": "execute_result"
    }
   ],
   "source": [
    "name = \"John\"\n",
    "\"Hello, {}\".format(name)"
   ]
  },
  {
   "cell_type": "code",
   "execution_count": 2,
   "metadata": {
    "collapsed": false
   },
   "outputs": [
    {
     "data": {
      "text/plain": [
       "'data'"
      ]
     },
     "execution_count": 2,
     "metadata": {},
     "output_type": "execute_result"
    }
   ],
   "source": [
    "\"data\\n\".strip()"
   ]
  }
 ],
 "metadata": {
  "kernelspec": {
   "display_name": "Python 2",
   "language": "python",
   "name": "python2"
  },
  "language_info": {
   "codemirror_mode": {
    "name": "ipython",
    "version": 2
   },
   "file_extension": ".py",
   "mimetype": "text/x-python",
   "name": "python",
   "nbconvert_exporter": "python",
   "pygments_lexer": "ipython2",
   "version": "2.7.10"
  }
 },
 "nbformat": 4,
 "nbformat_minor": 0
}
