{
 "cells": [
  {
   "cell_type": "markdown",
   "metadata": {},
   "source": [
    "## ฝึกเขียนโปรแกรมภาษาไพธอนใน Python Interactive Shell"
   ]
  },
  {
   "cell_type": "markdown",
   "metadata": {},
   "source": [
    "### Python Interactive Shell คืออะไร"
   ]
  },
  {
   "cell_type": "markdown",
   "metadata": {},
   "source": [
    "จุดเด่นอย่างหนึ่งของไพธอนคือเราสามารถคำสั่งภาษาไพธอนได้บน interactive shell (รันคำสั่งในโหมดตอบโต้) ซึ่งหมายถึงการที่เราพิมพ์คำสั่งเข้าไปแล้วคอมพิวเตอร์จะให้ผลลัพธ์ของคำสั่งนั้นตอบออกมาในทันที การรันคำสั่งในโหมดนี้ทำให้เราได้เรียนรู้และเข้าใจว่าไพธอนทำงานอย่างไร และเมื่อต้องการจะทดสอบคำสั่งที่เราคิดขึ้นอย่างรวดเร็วเราสามารถลองป้อนคำสั่งเข้าไปใน interactive shell ได้ เพื่อเช็คว่าความเข้าใจของเราถูกต้องหรือไม่"
   ]
  },
  {
   "cell_type": "markdown",
   "metadata": {},
   "source": [
    "#### การเข้าใช้ python interactive shell \n",
    "\n",
    "- ในเครื่องคอมพิวเตอร์ที่ใช้วินโดว์ นักศึกษาสามารถเปิด cmd (windows command line) แล้วพิมพ์คำว่า python ลงไป \n",
    "- สำหรับเครื่องคอมพิวเตอร์ที่ใช้ Mac OS X หรือ Linux เปิด terminal แล้วพิมพ์คำว่า python \n",
    "\n",
    "ถ้าเจอเครื่องหมาย >>> แปลว่า python พร้อมแล้วที่จะรับคำสั่ง\n",
    "\n",
    "เมื่อต้องการจะออกจาก python shell พิมพ์ exit()"
   ]
  },
  {
   "cell_type": "markdown",
   "metadata": {
    "collapsed": true
   },
   "source": [
    "![Python Interactive Shell](images/python_interactive_shell.png)"
   ]
  },
  {
   "cell_type": "markdown",
   "metadata": {
    "collapsed": true
   },
   "source": [
    "เมื่อเข้า Interactive Shell ได้แล้ว ลองใช้คำสั่งต่อไปนี้ ควรจะได้ผลลัพธ์ดังที่แสดงข้างล่าง"
   ]
  },
  {
   "cell_type": "code",
   "execution_count": 3,
   "metadata": {
    "collapsed": false
   },
   "outputs": [
    {
     "name": "stdout",
     "output_type": "stream",
     "text": [
      "hello world\n"
     ]
    }
   ],
   "source": [
    "print(\"hello world\")"
   ]
  },
  {
   "cell_type": "markdown",
   "metadata": {},
   "source": [
    "#### ! ระวังอย่างง python shell กับ command line shell\n",
    "\n",
    "ถ้าพิมพ์คำสั่งไพธอนใน python shell บรรทัดนั้นจะนำหน้าด้วยเครื่องหมาย `>>>` แล้วจะได้ผลลัพธ์ที่ถูกต้อง\n",
    "\n",
    "![Python Interactive Shell](images/hello_world_python_shell.png)\n",
    "\n",
    "ถ้าพิมพ์คำสั่งไพธอนนอก python shell ซึ่งไม่มีเครื่องหมาย `>>>` นำหน้า จะโดนคอมพิวเตอร์บ่นกลับมาว่าไม่เข้าใจคำสั่งนี้\n",
    "\n",
    "![Python Interactive Shell](images/hello_world_outside_shell.png)"
   ]
  },
  {
   "cell_type": "markdown",
   "metadata": {
    "collapsed": true
   },
   "source": [
    "### มาเริ่มเขียนโปรแกรมในภาษาไพธอนกันเถอะ\n",
    "\n",
    "นักศึกษาจะได้ฝึกการเขียนโปรแกรมด้วยภาษาไพธอนอย่างละเอียดใน lab activity แต่ก่อนอื่นเรามาลองหัดเขียนโค้ดง่ายๆ ใน python interactive shell ด้วยกันก่อน\n",
    "\n",
    "#### ตัวแปร ชนิดตัวแปร (Variables and variable types)\n",
    "\n",
    "ตัวแปรคือชื่อที่เราสร้างขึ้นในโปรแกรมเพื่อเก็บข้อมูล ยกตัวอย่างเช่น"
   ]
  },
  {
   "cell_type": "code",
   "execution_count": 5,
   "metadata": {
    "collapsed": true
   },
   "outputs": [],
   "source": [
    "age = 5"
   ]
  },
  {
   "cell_type": "markdown",
   "metadata": {},
   "source": [
    "เราสร้างตัวแปร (variable) ที่ชื่อ `age` เพื่อเก็บค่าตัวเลขอายุ ตัวแปร `age` ตอนนี้มีค่าเท่ากับ 5 เราสามารถปรินท์ออกมาดูได้"
   ]
  },
  {
   "cell_type": "code",
   "execution_count": 7,
   "metadata": {
    "collapsed": false
   },
   "outputs": [
    {
     "name": "stdout",
     "output_type": "stream",
     "text": [
      "5\n"
     ]
    }
   ],
   "source": [
    "print(age)"
   ]
  },
  {
   "cell_type": "markdown",
   "metadata": {},
   "source": [
    "ตัวแปรในไพธอนมีชนิดต่างๆหลายชนิด ที่เราจะทำความรู้จักในวันนี้มีสี่ชนิด"
   ]
  },
  {
   "cell_type": "code",
   "execution_count": 13,
   "metadata": {
    "collapsed": false
   },
   "outputs": [
    {
     "name": "stdout",
     "output_type": "stream",
     "text": [
      "<class 'int'>\n",
      "<class 'float'>\n",
      "<class 'str'>\n",
      "<class 'bool'>\n"
     ]
    }
   ],
   "source": [
    "a = 12\n",
    "print(type(a))\n",
    "a = 3.4\n",
    "print(type(a))\n",
    "a = \"5 cats\"\n",
    "print(type(a))\n",
    "a = False\n",
    "print(type(a))"
   ]
  },
  {
   "cell_type": "markdown",
   "metadata": {},
   "source": [
    "* int คือตัวแปรจำนวนเต็มเช่น 0,1,2,3\n",
    "* float คือตัวแปรจำนวนจริงเช่น 0.01,1.3\n",
    "* str หรือ string คือตัวแปรที่เป็นอักขระ เช่นตัวอักษร ตัวเลข เครื่องหมายต่างๆ\n",
    "* bool หรือ boolean คือตัวแปรที่เป็นได้แค่สองค่าคือ True (จริง) และ False (เท็จ)"
   ]
  },
  {
   "cell_type": "markdown",
   "metadata": {},
   "source": [
    "#### Math Operators and Functions\n",
    "\n",
    "Python มีฟังก์ชันพื้นฐานสำหรับการคิดเลขที่พร้อมใช้ได้ทันทีเช่นบวกลบคูณหาร"
   ]
  },
  {
   "cell_type": "code",
   "execution_count": 14,
   "metadata": {
    "collapsed": false
   },
   "outputs": [
    {
     "data": {
      "text/plain": [
       "5.0"
      ]
     },
     "execution_count": 14,
     "metadata": {},
     "output_type": "execute_result"
    }
   ],
   "source": [
    "3 + (2*4)/(5-1)"
   ]
  },
  {
   "cell_type": "markdown",
   "metadata": {},
   "source": [
    "เลขยกกำลัง เช่น สามยกกำลังสอง"
   ]
  },
  {
   "cell_type": "code",
   "execution_count": null,
   "metadata": {
    "collapsed": true
   },
   "outputs": [],
   "source": [
    "3**2"
   ]
  },
  {
   "cell_type": "markdown",
   "metadata": {},
   "source": [
    "และมี operator พิเศษคือ Modulo หรือเรียกสั้นๆว่า mod ที่ใช้หาเศษจากการหาร"
   ]
  },
  {
   "cell_type": "code",
   "execution_count": 16,
   "metadata": {
    "collapsed": false
   },
   "outputs": [
    {
     "data": {
      "text/plain": [
       "1"
      ]
     },
     "execution_count": 16,
     "metadata": {},
     "output_type": "execute_result"
    }
   ],
   "source": [
    "5%2"
   ]
  },
  {
   "cell_type": "markdown",
   "metadata": {},
   "source": [
    "โปรดสังเกตว่า การหารเลขใน python อาจจะทำให้ประเภทของตัวแปรเปลี่ยน\n",
    "ลองใช้คำสั่งต่อไปนี้เพื่อให้เข้าใจว่าประเภทของตัวแปรเปลี่ยนไปอย่างไร"
   ]
  },
  {
   "cell_type": "code",
   "execution_count": 18,
   "metadata": {
    "collapsed": false
   },
   "outputs": [
    {
     "name": "stdout",
     "output_type": "stream",
     "text": [
      "<class 'int'>\n",
      "<class 'float'>\n",
      "<class 'int'>\n",
      "<class 'float'>\n"
     ]
    }
   ],
   "source": [
    "print(type(2+3))\n",
    "print(type(2.1 + 3.2))\n",
    "print(type(3*4))\n",
    "print(type(15/5))"
   ]
  },
  {
   "cell_type": "markdown",
   "metadata": {},
   "source": [
    "และมีฟังก์ชันทางคณิตศาสตร์อื่นๆที่น่าจะเป็นประโยชน์"
   ]
  },
  {
   "cell_type": "code",
   "execution_count": 20,
   "metadata": {
    "collapsed": false
   },
   "outputs": [
    {
     "data": {
      "text/plain": [
       "3"
      ]
     },
     "execution_count": 20,
     "metadata": {},
     "output_type": "execute_result"
    }
   ],
   "source": [
    "round(3.2)\n",
    "round(3.7)\n",
    "\n",
    "abs(-5)\n",
    "abs(5)\n",
    "\n",
    "max(8,6,14)\n",
    "min(4,3,5)"
   ]
  },
  {
   "cell_type": "markdown",
   "metadata": {},
   "source": [
    "#### ตัวแปร string\n",
    "\n",
    "ตัวแปรสตริงเก็บค่าตัวอักษรที่เรียงต่อกัน มีคำสั่งต่างๆที่ใช้สำหรับตัวแปร string เท่านั้นซึ่งเราควรทราบ"
   ]
  },
  {
   "cell_type": "code",
   "execution_count": 10,
   "metadata": {
    "collapsed": false
   },
   "outputs": [
    {
     "name": "stdout",
     "output_type": "stream",
     "text": [
      "12\n"
     ]
    }
   ],
   "source": [
    "name = 'John'"
   ]
  },
  {
   "cell_type": "code",
   "execution_count": 22,
   "metadata": {
    "collapsed": false
   },
   "outputs": [
    {
     "name": "stdout",
     "output_type": "stream",
     "text": [
      "J\n",
      "n\n"
     ]
    }
   ],
   "source": [
    "name = 'John'\n",
    "print(name[0])\n",
    "print(name[3])"
   ]
  },
  {
   "cell_type": "markdown",
   "metadata": {},
   "source": [
    "string สามารถนำมาบวกกันได้"
   ]
  },
  {
   "cell_type": "code",
   "execution_count": 24,
   "metadata": {
    "collapsed": false
   },
   "outputs": [
    {
     "name": "stdout",
     "output_type": "stream",
     "text": [
      "Hello John\n"
     ]
    }
   ],
   "source": [
    "greeting = \"Hello\" + \" \" + \"John\"\n",
    "print(greeting)"
   ]
  }
 ],
 "metadata": {
  "kernelspec": {
   "display_name": "Python 3",
   "language": "python",
   "name": "python3"
  },
  "language_info": {
   "codemirror_mode": {
    "name": "ipython",
    "version": 3
   },
   "file_extension": ".py",
   "mimetype": "text/x-python",
   "name": "python",
   "nbconvert_exporter": "python",
   "pygments_lexer": "ipython3",
   "version": "3.5.1"
  }
 },
 "nbformat": 4,
 "nbformat_minor": 0
}
