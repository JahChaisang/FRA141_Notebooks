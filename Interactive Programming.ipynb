{
 "cells": [
  {
   "cell_type": "markdown",
   "metadata": {},
   "source": [
    "### Python errors คำแนะนำในการแก้บั๊กในโปรแกรมที่เราเขียน\n",
    "\n",
    "อย่ากลัว errors! คิดเสียว่ามันเป็นคำใบ้ที่บอกเราว่าทำอย่างไรจึงจะเขียนโปรแกรมได้ถูกต้อง คนที่เขียนโปรแกรมจะต้องเจอ errors ตลอดเวลา\n",
    "\n",
    "errors หลักๆในไพธอนมีอยู่ 3 แบบ\n",
    "\n",
    "#### 1. NameError\n",
    "คำสั่งหรือตัวแปรที่คุณเรียกมา ไพธอนไม่รู้จัก\n",
    "ลองคำสั่งนี้ดู\n",
    "```\n",
    "> 9 + a\n",
    "```\n",
    "\n",
    "จะได้ผลลัพธ์ว่า\n",
    "```\n",
    "Traceback (most recent call last):\n",
    "  File \"<stdin>\", line 1, in <module>\n",
    "NameError: name 'a' is not defined\n",
    "```\n",
    "\n",
    "การเรียกฟังก์ชันที่ไม่เคยได้ถูก define มาก่อนก็ทำให้เกิด NameError ด้วย เช่น\n",
    "```\n",
    "my_function(“hello”)\n",
    "```\n",
    "\n",
    "\n",
    "#### 2. TypeError\n",
    "ชนิดของตัวแปรผิด สำหรับคำสั่งที่คุณเรียก\n",
    "ลองคำสั่งนี้ดู\n",
    "```\n",
    "> 5 + “hello”\n",
    "```\n",
    "\n",
    "จะได้ผลลัพธ์ว่า\n",
    "```\n",
    "Traceback (most recent call last):\n",
    "  File \"<stdin>\", line 1, in <module>\n",
    "TypeError: unsupported operand type(s) for +: 'int' and 'str'\n",
    "```\n",
    "\n",
    "#### 3. SyntaxError\n",
    "คำสั่งที่เรียกมารู้จักนะ แต่คุณใช้มันผิดวิธี\n",
    "ลองคำสั่งนี้ดู\n",
    "```\n",
    "> 5.append(6)\n",
    "```\n",
    "จะได้ผลลัพธ์ว่า\n",
    "\n",
    "```\n",
    ">>> 5.append(6)\n",
    "  File \"<stdin>\", line 1\n",
    "    5.append(6)\n",
    "           ^\n",
    "SyntaxError: invalid syntax\n",
    "```\n",
    "\n",
    "### Tips\n",
    "\n",
    "1. ถ้าเจอ Error ที่ไม่รู้จัก ลองถามอากู๋ดู\n",
    "2. ไม่ต้องจำ syntax และ error ก็ได้ เปิดดูเอา\n",
    "3. ฝึกเขียนโปรแกรมเยอะๆ\n",
    "\n",
    "### มาทำโปรแกรมสำหรับใช้ในชีวิตประจำวันกันเถอะ\n",
    "\n",
    "เราจะทำ application ง่ายๆขึ้นมาด้วยกันหนึ่งตัวชื่อ \"My Shopping List\" ก่อนอื่นเราจะต้องวางแผนว่าแอพลิเคชันของเราจะทำอะไรบ้าง แอพนี้จะมีลิสต์หนึ่งลิสต์ที่เอาไว้เก็บของที่ต้องซื้อ เราจะถามผู้ใช้ให้เพิ่มรายการสิ่งของเข้าไป และถามไปเรื่อยๆจนกว่าผู้ใช้จะพิมพ์คำว่า DONE เราจึงจะออกจากโปรแกรมพร้อม\n",
    "\n",
    "1. print some instructions on how to use the program (ปรินท์ข้อความที่ช่วยให้ผู้ใช้เข้าใจว่าโปรแกรมเราทำงานอย่างไร)\n",
    "2. make a list variable to hold items (สร้างตัวแปรลิสต์ขึ้นมาเพื่อรับรายการสิ่งของที่ต้องซื้อ)\n",
    "3. ask user to add an item (ถามผู้ใช้ให้ใส่รายการสิ่งของเข้ามา)\n",
    "4. add the item to the list (นำเอาสิ่งที่ผู้ใช้ใส่มาไปรวมไว้ในลิสต์)\n",
    "5. repeat 3-4 over and over (ทำข้อสามและข้อสี่ซ้ำๆไปเรื่อยๆ)\n",
    "6. if the item is “DONE”, quit the program (ถ้าผู้ใช้พิมพ์ 'DONE' ให้ออกจากโปรแกรม)\n",
    "7. print the list (พิมพ์ลิสต์ของสิ่งของออกมา)\n",
    "\n",
    "วางแผนเสร็จแล้วเราสามารถเริ่มลงมือทำงานได้\n",
    "\n",
    "#### ขั้นตอนที่ 1-2"
   ]
  },
  {
   "cell_type": "code",
   "execution_count": 2,
   "metadata": {
    "collapsed": false
   },
   "outputs": [
    {
     "name": "stdout",
     "output_type": "stream",
     "text": [
      "What do you want to buy?\n",
      "Type \"DONE\" to quit the program\n"
     ]
    }
   ],
   "source": [
    "#1. print some instructions on how to use the program (ปรินท์ข้อความที่ช่วยให้ผู้ใช้เข้าใจว่าโปรแกรมเราทำงานอย่างไร)\n",
    "\n",
    "print('What do you want to buy?')\n",
    "print('Type \"DONE\" to quit the program')\n",
    "\n",
    "#2. make a list variable to hold items (สร้างตัวแปรลิสต์ขึ้นมาเพื่อรับรายการสิ่งของที่ต้องซื้อ)\n",
    "shopping_list = []"
   ]
  },
  {
   "cell_type": "markdown",
   "metadata": {},
   "source": [
    "#### ขั้นตอนที่ 3-4"
   ]
  },
  {
   "cell_type": "code",
   "execution_count": 6,
   "metadata": {
    "collapsed": false
   },
   "outputs": [
    {
     "name": "stdout",
     "output_type": "stream",
     "text": [
      "> apple\n"
     ]
    }
   ],
   "source": [
    "#3. ask user to add an item (ถามผู้ใช้ให้ใส่รายการสิ่งของเข้ามา)\n",
    "new_item = input(\"> \")\n",
    "\n",
    "#4. add the item to the list (นำเอาสิ่งที่ผู้ใช้ใส่มาไปรวมไว้ในลิสต์)\n",
    "shopping_list.append(new_item)"
   ]
  },
  {
   "cell_type": "markdown",
   "metadata": {},
   "source": [
    "#### ขั้นตอนที่ 5"
   ]
  },
  {
   "cell_type": "code",
   "execution_count": null,
   "metadata": {
    "collapsed": true
   },
   "outputs": [],
   "source": [
    "#5. repeat 3-4 over and over (ทำข้อสามและข้อสี่ซ้ำๆไปเรื่อยๆ)\n",
    "while True:\n",
    "    #3. ask user to add an item (ถามผู้ใช้ให้ใส่รายการสิ่งของเข้ามา)\n",
    "    new_item = input('> ')\n",
    "\n",
    "    #4. add the item to the list (นำเอาสิ่งที่ผู้ใช้ใส่มาไปรวมไว้ในลิสต์)\n",
    "    shopping_list.append(new_item)"
   ]
  },
  {
   "cell_type": "markdown",
   "metadata": {},
   "source": [
    "#### ขั้นตอนที่ 6"
   ]
  },
  {
   "cell_type": "code",
   "execution_count": null,
   "metadata": {
    "collapsed": true
   },
   "outputs": [],
   "source": [
    "#5. repeat 3-4 over and over (ทำข้อสามและข้อสี่ซ้ำๆไปเรื่อยๆ)\n",
    "while True:\n",
    "    #3. ask user to add an item (ถามผู้ใช้ให้ใส่รายการสิ่งของเข้ามา)\n",
    "    new_item = input(\"> \")\n",
    "\n",
    "    #6. if the item is “DONE”, quit the program (ถ้าผู้ใช้พิมพ์ 'DONE' ให้ออกจากโปรแกรม)\n",
    "    if new_item = 'DONE':\n",
    "        break\n",
    "\n",
    "    #4. add the item to the list (นำเอาสิ่งที่ผู้ใช้ใส่มาไปรวมไว้ในลิสต์)\n",
    "    shopping_list.append(new_item)"
   ]
  },
  {
   "cell_type": "markdown",
   "metadata": {},
   "source": [
    "#### ขั้นตอนที่ 7"
   ]
  },
  {
   "cell_type": "code",
   "execution_count": 8,
   "metadata": {
    "collapsed": false
   },
   "outputs": [],
   "source": [
    "#7. print the list (พิมพ์ลิสต์ของสิ่งของออกมา)\n",
    "\n",
    "print(\"Here’s the shopping list:\")\n",
    "for item in shopping_list:\n",
    "    print(item)"
   ]
  },
  {
   "cell_type": "markdown",
   "metadata": {},
   "source": [
    "### ทำโปรแกรมให้ใช้งานสะดวกขึ้น\n",
    "\n",
    "8. add a HELP function (เพิ่มคำสั่ง HELP)\n",
    "9. add a SHOW function (เพิ่มคำสั่ง SHOW)\n",
    "10. tell users how many items are in the list (บอกผู้ใช้ว่าในลิสต์มีของอยู่กี่ชิ้นแล้ว)"
   ]
  },
  {
   "cell_type": "markdown",
   "metadata": {},
   "source": [
    "#### ขั้นตอนที่ 8\n",
    "\n",
    "โค้ดข้างล่างนี้เป็นคำสั่งที่เราบอกผู้ใช้ว่าโปรแกรมเราทำงานยังไง\n",
    "เราน่าจะเพิ่มคำอธิบายเกี่ยวกับคำสั่ง SHOW และ HELP เข้าไปตรงนี้\n",
    "แล้วย้ายโค้ดทั้งหมดไปไว้ในฟังก์ชันของมันเองเพื่อจะได้เรียกใช้ฟังก์ชันนั้นเวลาผู้ใช้พิมพ์ HELP"
   ]
  },
  {
   "cell_type": "code",
   "execution_count": 10,
   "metadata": {
    "collapsed": false
   },
   "outputs": [],
   "source": [
    "#1. print some instructions on how to use the program (ปรินท์ข้อความที่ช่วยให้ผู้ใช้เข้าใจว่าโปรแกรมเราทำงานอย่างไร)\n",
    "\n",
    "print('What do you want to buy?')\n",
    "print('Type \"DONE\" to quit the program')"
   ]
  },
  {
   "cell_type": "markdown",
   "metadata": {},
   "source": [
    "แก้โค้ดข้างบนให้เป็นแบบข้างล่าง"
   ]
  },
  {
   "cell_type": "code",
   "execution_count": null,
   "metadata": {
    "collapsed": true
   },
   "outputs": [],
   "source": [
    "def show_help():\n",
    "    print(\"What do you want to buy?\")\n",
    "    print(\"Type 'DONE' to quit the program.\")\n",
    "    print(\"Type 'HELP' to get this instruction.\")\n",
    "    print(\"Type 'SHOW' to see your list.\")"
   ]
  },
  {
   "cell_type": "markdown",
   "metadata": {},
   "source": [
    "เมื่อผู้ใช้พิมพ์ HELP ต้องเรียกคำสั่ง show_help()"
   ]
  },
  {
   "cell_type": "code",
   "execution_count": null,
   "metadata": {
    "collapsed": true
   },
   "outputs": [],
   "source": [
    "#6. if the item is “DONE”, quit the program (ถ้าผู้ใช้พิมพ์ 'DONE' ให้ออกจากโปรแกรม)\n",
    "if new_item = 'DONE':\n",
    "    break\n",
    "elif new_item = 'HELP':\n",
    "    show_help()\n",
    "    continue"
   ]
  },
  {
   "cell_type": "markdown",
   "metadata": {},
   "source": [
    "#### ขั้นตอนที่ 9\n",
    "\n",
    "คราวนี้เราจะ add คำสั่ง SHOW ก่อนอื่นเราอาจจะนำคำสั่งข้างล่างนี้ไปแยกใส่ฟังก์ชันของตัวเอง"
   ]
  },
  {
   "cell_type": "code",
   "execution_count": null,
   "metadata": {
    "collapsed": true
   },
   "outputs": [],
   "source": [
    "#7. print the list (พิมพ์ลิสต์ของสิ่งของออกมา)\n",
    "\n",
    "print(\"Here’s the shopping list:\")\n",
    "for item in shopping_list:\n",
    "    print(item)"
   ]
  },
  {
   "cell_type": "markdown",
   "metadata": {},
   "source": [
    "แก้โค้ดข้างบนให้เป็นแบบข้างล่าง"
   ]
  },
  {
   "cell_type": "code",
   "execution_count": null,
   "metadata": {
    "collapsed": true
   },
   "outputs": [],
   "source": [
    "# 7. print the list\n",
    "def show_list():\n",
    "    print(\"Here’s the shopping list:\")\n",
    "    for item in shopping_list:\n",
    "        print(item)"
   ]
  },
  {
   "cell_type": "markdown",
   "metadata": {},
   "source": [
    "จากนั้นจึงใส่คำสั่ง SHOW เข้าไปในโปรแกรม"
   ]
  },
  {
   "cell_type": "code",
   "execution_count": null,
   "metadata": {
    "collapsed": true
   },
   "outputs": [],
   "source": [
    "#6. if the item is “DONE”, quit the program (ถ้าผู้ใช้พิมพ์ 'DONE' ให้ออกจากโปรแกรม)\n",
    "if new_item = 'DONE':\n",
    "    break\n",
    "elif new_item = 'HELP':\n",
    "    show_help()\n",
    "    continue\n",
    "elif new_item = 'SHOW':\n",
    "    show_list()\n",
    "    continue"
   ]
  },
  {
   "cell_type": "markdown",
   "metadata": {},
   "source": [
    "### ขั้นตอนที่ 10\n",
    "\n",
    "สุดท้ายแล้วเราจะเติมคำสั่งสำหรับปรินท์จำนวนของที่มีอยู่ในลิสต์ ก่อนอื่นเราอาจจะนำเอาโค้ดข้างล่างนี้ไปใส่ในฟังก์ชันของตัวเองเช่นกัน"
   ]
  },
  {
   "cell_type": "code",
   "execution_count": null,
   "metadata": {
    "collapsed": true
   },
   "outputs": [],
   "source": [
    "#4. add the item to the list (นำเอาสิ่งที่ผู้ใช้ใส่มาไปรวมไว้ในลิสต์)\n",
    "shopping_list.append(new_item)"
   ]
  },
  {
   "cell_type": "markdown",
   "metadata": {},
   "source": [
    "แก้ให้เป็นโค้ดข้างล่างนี้"
   ]
  },
  {
   "cell_type": "code",
   "execution_count": null,
   "metadata": {
    "collapsed": true
   },
   "outputs": [],
   "source": [
    "#4. add the item to the list (นำเอาสิ่งที่ผู้ใช้ใส่มาไปรวมไว้ในลิสต์)\n",
    "def add_item(new_item):\n",
    "    shopping_list.append(new_item)\n",
    "    print(str(len(shopping_list)) + \" items in the list.\")"
   ]
  },
  {
   "cell_type": "markdown",
   "metadata": {},
   "source": [
    "จากนั้นนำฟังก์ชันนี้ไปเรียกในโปรแกรมของเรา"
   ]
  },
  {
   "cell_type": "markdown",
   "metadata": {},
   "source": [
    "### ลองแก้โปรแกรมนี้ด้วยตนเอง\n",
    "\n",
    "ไอเดียการพัฒนาโปรแกรมเพิ่มเติม\n",
    "1. ถ้าผู้ใช้ใส่สิ่งของที่มีอยู่แล้วในลิสต์ให้เตือนผู้ใช้ว่า \"You have added this item, are you sure you want to add it again?\"\n",
    "2. ทำให้โปรแกรมสามารถรับชื่อผู้ใช้และทักทายผู้ใช้ได้ก่อนจะถามว่าคุณจะซื้ออะไร\n",
    "3. ผู้ใช้สามารถลบสิ่งของออกจากลิสต์ได้โดยใช้คำสั่ง DELETE ตามด้วยชื่อสิ่งของ\n",
    "\n",
    "\n",
    "### ลองทำ Interactive Program สำหรับใช้งานเอง \n",
    "\n",
    "1. เขียน specification ว่าเราอยากให้โปรแกรมมีฟังก์ชันอะไรบ้าง\n",
    "2. เขียนโปรแกรมออกมาตามที่เราต้องการ\n",
    "3. ทดลองใช้โปรแกรมจนกว่าจะทำงานได้ตามที่กำหนด\n",
    "\n",
    "ตัวอย่างปัญหาที่น่าจะเขียนโปรแกรมช่วยได้\n",
    "1. โปรแกรมช่วยเก็บ Password: เนื่องจากนักศึกษามักจะทำพาสเวิร์ดหายกันเป็นประจำทำให้ไม่สามารถที่จะล็อกอินเข้าระบบส่งงานได้ การทำโปรแกรมนี้ขึ้นมาน่าจะช่วยให้เก็บ password ไว้ใช้ได้ จะออกแบบโปรแกรมอย่างไรไม่ให้ password รั่วไหล?\n",
    "2. โปรแกรมช่วยเก็บรายการลิสต์เพื่อนที่ยืมเงินเราไป สามารถเรียกดูได้ว่าเพื่อนคนไหน ยืมไปที่ใด เท่าไหร่ ต้องคืนวันไหน\n",
    "3. โปรแกรมเก็บค่าใช้จ่ายประจำวัน ช่วยเราจำว่าเราใช้เงินไปเท่าไหร่ในแต่ละวัน และค่าใช้จ่ายอยู่ในหมวดใด (เช่น ค่าอาหาร ค่าที่พัก ค่าเดินทาง ค่าอุปกรณ์การเรียน) สามารถเรียกดูได้ว่าเดือนนี้เราจ่ายเงินไปเท่าไหร่ในแต่ละหมวด"
   ]
  }
 ],
 "metadata": {
  "kernelspec": {
   "display_name": "Python 3",
   "language": "python",
   "name": "python3"
  },
  "language_info": {
   "codemirror_mode": {
    "name": "ipython",
    "version": 3
   },
   "file_extension": ".py",
   "mimetype": "text/x-python",
   "name": "python",
   "nbconvert_exporter": "python",
   "pygments_lexer": "ipython3",
   "version": "3.5.2"
  }
 },
 "nbformat": 4,
 "nbformat_minor": 1
}
