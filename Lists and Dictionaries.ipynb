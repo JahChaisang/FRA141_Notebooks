{
 "cells": [
  {
   "cell_type": "markdown",
   "metadata": {},
   "source": [
    "## Lists\n",
    "\n",
    "Lists คือตัวแปรชนิดหนึ่งที่สามารถเก็บข้อมูลหลายๆตัว ไว้ด้วยกันได้เป็นแถวภายใต้ชื่อตัวแปรชื่อเดียว วิธีการสร้างลิสต์\n",
    "\n",
    "`list_name = [item_1, item_2]`\n",
    "\n",
    "เราสามารถสร้างลิสต์ว่างๆที่ไม่มีสมาชิกได้ด้วย\n",
    "\n",
    "`empty_list = []`\n",
    "\n",
    "### ตัวอย่าง\n"
   ]
  },
  {
   "cell_type": "code",
   "execution_count": 3,
   "metadata": {
    "collapsed": false
   },
   "outputs": [
    {
     "name": "stdout",
     "output_type": "stream",
     "text": [
      "['apple', 'papaya', 'orange']\n"
     ]
    }
   ],
   "source": [
    "fruits = [\"apple\", \"papaya\", \"orange\"]\n",
    "print(fruits)"
   ]
  },
  {
   "cell_type": "markdown",
   "metadata": {},
   "source": [
    "เช่นเดียวกับสตริง เราสามารถเรียกสมาชิกตัวใดตัวหนึ่งในลิสต์ออกมาได้โดยใช้ index ซึ่ง index ก็เหมือนกับเลขที่บอกตำแหน่งของสมาชิก ตำแหน่งเริ่มนับจากเลข 0 ไม่ใช่เลข 1 เช่นสมาชิกตัวแรกของลิสต์จะเรียกได้ด้วยคำสั่ง `list_name[0]`"
   ]
  },
  {
   "cell_type": "code",
   "execution_count": 5,
   "metadata": {
    "collapsed": false
   },
   "outputs": [
    {
     "name": "stdout",
     "output_type": "stream",
     "text": [
      "apple\n",
      "papaya\n",
      "orange\n"
     ]
    }
   ],
   "source": [
    "fruits = [\"apple\", \"papaya\", \"orange\"]\n",
    "print(fruits[0])\n",
    "print(fruits[1])\n",
    "print(fruits[2])"
   ]
  },
  {
   "cell_type": "markdown",
   "metadata": {},
   "source": [
    "ถ้าต้องการเปลี่ยนค่าของสมาชิกตัวใดตัวหนึ่งสามารถใช้คำสั่งลักษณะนี้"
   ]
  },
  {
   "cell_type": "code",
   "execution_count": 6,
   "metadata": {
    "collapsed": false
   },
   "outputs": [
    {
     "name": "stdout",
     "output_type": "stream",
     "text": [
      "['apple', 'papaya', 'banana']\n"
     ]
    }
   ],
   "source": [
    "fruits = [\"apple\", \"papaya\", \"orange\"]\n",
    "fruits[2] = \"banana\"\n",
    "print(fruits)"
   ]
  },
  {
   "cell_type": "markdown",
   "metadata": {},
   "source": [
    "เราสามารถเพิ่มสมาชิกเข้าไปในลิสต์ด้วยคำสั่ง `.append()`"
   ]
  },
  {
   "cell_type": "code",
   "execution_count": 8,
   "metadata": {
    "collapsed": false
   },
   "outputs": [
    {
     "name": "stdout",
     "output_type": "stream",
     "text": [
      "['apple', 'papaya', 'orange', 'banana']\n"
     ]
    }
   ],
   "source": [
    "fruits = [\"apple\", \"papaya\", \"orange\"]\n",
    "fruits.append(\"banana\")\n",
    "print(fruits)"
   ]
  },
  {
   "cell_type": "markdown",
   "metadata": {},
   "source": [
    "ใช้คำสั่ง `remove()` เพื่อลบสมาชิกบางตัวออก"
   ]
  },
  {
   "cell_type": "code",
   "execution_count": 21,
   "metadata": {
    "collapsed": false
   },
   "outputs": [
    {
     "name": "stdout",
     "output_type": "stream",
     "text": [
      "['papaya', 'orange', 'banana', 'mango']\n"
     ]
    }
   ],
   "source": [
    "fruits.remove(\"apple\")\n",
    "print(fruits)"
   ]
  },
  {
   "cell_type": "markdown",
   "metadata": {},
   "source": [
    "เราสามารถหาจำนวนสมาชิกในลิสต์ได้ด้วยคำสั่ง `len()`"
   ]
  },
  {
   "cell_type": "code",
   "execution_count": 23,
   "metadata": {
    "collapsed": false
   },
   "outputs": [
    {
     "name": "stdout",
     "output_type": "stream",
     "text": [
      "['papaya', 'orange', 'banana', 'mango']\n",
      "4\n"
     ]
    }
   ],
   "source": [
    "print(fruits)\n",
    "print(len(fruits))"
   ]
  },
  {
   "cell_type": "markdown",
   "metadata": {},
   "source": [
    "บางทีเราต้องการที่จะเรียกดูบางส่วนของลิสต์ (หรือที่เรียกว่า slicing) ซึ่งสามารถทำได้โดยใช้ index ร่วมกับเครื่องหมาย colon"
   ]
  },
  {
   "cell_type": "code",
   "execution_count": 10,
   "metadata": {
    "collapsed": false
   },
   "outputs": [
    {
     "name": "stdout",
     "output_type": "stream",
     "text": [
      "['papaya', 'orange']\n",
      "['apple', 'papaya']\n",
      "['banana', 'mango']\n"
     ]
    }
   ],
   "source": [
    "fruits = [\"apple\", \"papaya\", \"orange\", \"banana\", \"mango\"]\n",
    "print(fruits[1:3])\n",
    "print(fruits[:2])\n",
    "print(fruits[3:])"
   ]
  },
  {
   "cell_type": "markdown",
   "metadata": {},
   "source": [
    "## การใช้ for loop ในการจัดการลิสต์\n",
    "\n",
    "คำสั่ง for loop มีลักษณะต่อไปนี้\n",
    "\n",
    "```\n",
    "for i in list:\n",
    "    # do something with i\n",
    "```\n",
    "\n",
    "โค้ดที่อยู่ภายใน for loop จะถูกรันซ้ำๆ โดยในรอบแรกค่า `i` จะเป็นสมาชิกตัวแรกของ `list` รอบที่สอง `i` จะเป็นสมาชิกตัวที่สองของ `list` วนไปเรื่อยๆ จนกว่าจะถึงสมาชิกตัวสุดท้าย เช่นเดียวกับฟังก์ชัน เราต้องใส่ย่อหน้าข้างหน้าโค้ดที่อยู่ภายในลูปเพื่อบอกไพธอนว่าโค้ดบรรทัดไหนอยู่ในลูปและโค้ดบรรทัดไหนอยู่ข้างนอก\n",
    "\n",
    "### ตัวอย่าง"
   ]
  },
  {
   "cell_type": "code",
   "execution_count": 12,
   "metadata": {
    "collapsed": false
   },
   "outputs": [
    {
     "name": "stdout",
     "output_type": "stream",
     "text": [
      "I want apple\n",
      "I want papaya\n",
      "I want orange\n",
      "I want banana\n",
      "I want mango\n"
     ]
    }
   ],
   "source": [
    "fruits = [\"apple\", \"papaya\", \"orange\", \"banana\", \"mango\"]\n",
    "for f in fruits:\n",
    "    print(\"I want \" + f)"
   ]
  },
  {
   "cell_type": "markdown",
   "metadata": {},
   "source": [
    "### การใช้ for loop กับตัวแปร สตริง\n",
    "\n",
    "ตัวแปรสตริงก็คล้ายๆกับ ลิสต์ของตัวอักษร อย่างที่เราเคยเรียนไปแล้วเราสามารถเรียกดูตัวอักษรที่ตำแหน่งต่างๆได้ เช่น"
   ]
  },
  {
   "cell_type": "code",
   "execution_count": 2,
   "metadata": {
    "collapsed": false
   },
   "outputs": [
    {
     "name": "stdout",
     "output_type": "stream",
     "text": [
      "c\n"
     ]
    }
   ],
   "source": [
    "s = \"anaconda\"\n",
    "print(s[3])"
   ]
  },
  {
   "cell_type": "markdown",
   "metadata": {},
   "source": [
    "เราสามารถใช้ for loop กับสตริงได้เช่นกัน ยกตัวอย่างเช่น"
   ]
  },
  {
   "cell_type": "code",
   "execution_count": 3,
   "metadata": {
    "collapsed": false
   },
   "outputs": [
    {
     "name": "stdout",
     "output_type": "stream",
     "text": [
      "A\n",
      "N\n",
      "A\n",
      "C\n",
      "O\n",
      "N\n",
      "D\n",
      "A\n"
     ]
    }
   ],
   "source": [
    "s = \"anaconda\"\n",
    "for c in s:\n",
    "    print(c.upper())"
   ]
  },
  {
   "cell_type": "markdown",
   "metadata": {},
   "source": [
    "### มาลองเขียนโปรแกรมโดยใช้ list และ loop กัน"
   ]
  },
  {
   "cell_type": "markdown",
   "metadata": {},
   "source": [
    "ข้อ 1\n",
    "\n",
    "1. สร้างตัวแปรชื่อ numbers เป็นลิสต์ที่มีตัวเลขอะไรก็ได้ มีสมาชิก 6 ตัว\n",
    "2. สร้างตัวแปรชื่อ squareroot เป็นลิสต์ว่างๆ\n",
    "3. เขียน for loop เพื่อรันผ่านสมาชิกแต่ละตัวใน numbers\n",
    "4. ภายในลูป หาค่า square root ของสมาชิกแต่ละตัวใน numbers แล้วนำไปใส่ใน squareroot ด้วยคำสั่ง append()\n",
    "\n",
    "ข้อ 2\n",
    "\n",
    "เขียนฟังก์ชันชื่อ check_for_a ที่รับตัวแปรหนึ่งตัวคือ word ฟังก์ชันนี้ตรวจว่าใน word มีตัว a กี่ตัว เช่น\n",
    "```\n",
    ">>> check_for_a(\"banana\")\n",
    "3\n",
    ">>> check_for_a(\"nana\")\n",
    "2\n",
    "```\n",
    "\n",
    "ข้อ 3\n",
    "เขียนฟังก์ชันชื่อ locate_int ที่รับตัวแปรเป็นลิสต์ a ฟังก์ชันนี้จะให้ผลลัพธ์เป็นลิสต์ของตำแหน่งของจำนวนเต็มในลิสต์ a เช่น\n",
    "```\n",
    ">>> locate_int([0, \"a\", \"hello\", 4.5, 7])\n",
    "[0,4]\n",
    ">>> locate_int([\"a\",\"b\",\"c\",19,20,55])\n",
    "[3,4,5]\n",
    "```"
   ]
  },
  {
   "cell_type": "markdown",
   "metadata": {},
   "source": [
    "## Dictionaries\n",
    "\n",
    "ดิกชันนารีคล้ายๆกับลิสต์ แต่เวลาที่เราจะเรียกสมาชิกของดิกชันนารีมาดูเราใช้ key แทนที่จะใช้ index ตัวอย่าง เช่น\n",
    "\n",
    "`d = {'key1' : 1, 'key2' : 2, 'key3' : 3}`\n",
    "\n",
    "สมาชิกของดิกชันนารีจะเป็นคู่ของ key และ value เป็นการบอกว่าตัวแปร d ที่ตำแหน่ง `key1` จะมีค่าเป็น 1, `key2` จะมีค่าเป็น 2 เป็นต้น\n",
    "\n",
    "เหมาะกับการใช้เก็บข้อมูลที่มาเป็นคู่เช่น username (key) / email (value) หรือ name(key) / phone number (value)  เป็นต้น\n",
    "\n",
    "### ตัวอย่าง\n",
    "\n",
    "ตัวแปรชื่อ menu ข้างล่างนี้เป็นดิกชันนารีที่มี 4 คีย์ ที่เก็บชื่ออาหารและราคาของอาหาร แต่ละ key จะมี value ที่เป็นคู่กัน (อาหาร คู่กับ ราคา) เช่น คีย์ที่ชื่อ 'chicken basil' มี value เป็น 35, คีย์ที่ชื่อ 'fried egg' มี value เป็น 7 เป็นต้น"
   ]
  },
  {
   "cell_type": "code",
   "execution_count": 3,
   "metadata": {
    "collapsed": true
   },
   "outputs": [],
   "source": [
    "menu = {\n",
    "    'chicken basil': 35,\n",
    "    'fried egg': 7,\n",
    "    'garlic pork': 35,\n",
    "    'white rice': 15\n",
    "}"
   ]
  },
  {
   "cell_type": "markdown",
   "metadata": {},
   "source": [
    "ถ้าจะเรียกดูค่าของสมาชิกในดิกชันนารี ใช้คำสั่งต่อไปนี้"
   ]
  },
  {
   "cell_type": "code",
   "execution_count": 4,
   "metadata": {
    "collapsed": false
   },
   "outputs": [
    {
     "name": "stdout",
     "output_type": "stream",
     "text": [
      "15\n"
     ]
    }
   ],
   "source": [
    "print(menu['white rice'])"
   ]
  },
  {
   "cell_type": "markdown",
   "metadata": {},
   "source": [
    "เราสามารถเพิ่มรายการเข้าไปใน dictionary ได้"
   ]
  },
  {
   "cell_type": "code",
   "execution_count": 16,
   "metadata": {
    "collapsed": false
   },
   "outputs": [
    {
     "name": "stdout",
     "output_type": "stream",
     "text": [
      "{'garlic pork': 35, 'coke zero': 15, 'fried egg': 7, 'chicken basil': 35, 'white rice': 15}\n"
     ]
    }
   ],
   "source": [
    "menu['coke zero'] = 15\n",
    "print(menu)"
   ]
  },
  {
   "cell_type": "markdown",
   "metadata": {},
   "source": [
    "ใช้คำสั่ง `len()` เพื่อหาจำนวนคู่ key-value ในดิกชันนารีได้"
   ]
  },
  {
   "cell_type": "code",
   "execution_count": 17,
   "metadata": {
    "collapsed": false
   },
   "outputs": [
    {
     "name": "stdout",
     "output_type": "stream",
     "text": [
      "5\n"
     ]
    }
   ],
   "source": [
    "print(len(menu))"
   ]
  },
  {
   "cell_type": "markdown",
   "metadata": {},
   "source": [
    "และใช้คำสั่ง del เพื่อเอาสมาชิกบางตัวออก"
   ]
  },
  {
   "cell_type": "code",
   "execution_count": 19,
   "metadata": {
    "collapsed": false
   },
   "outputs": [
    {
     "name": "stdout",
     "output_type": "stream",
     "text": [
      "{'coke zero': 15, 'fried egg': 7, 'chicken basil': 35, 'white rice': 15}\n"
     ]
    }
   ],
   "source": [
    "del menu[\"garlic pork\"]\n",
    "print(menu)"
   ]
  },
  {
   "cell_type": "markdown",
   "metadata": {},
   "source": [
    "### ลองเขียนโปรแกรมโดยใช้ dictionary\n",
    "\n",
    "ข้อ 1\n",
    "\n",
    "1. สร้างตัวแปรชื่อ number_group เป็นดิกชันนารีที่มี 3 keys: \"prime numbers\", \"odd numbers\", \"even numbers\"\n",
    "2. ให้ value ของแต่ละ key เป็นดังนี้\n",
    "    * 'prime numbers': [1,2,3,5]\n",
    "    * 'odd numbers': [1,3,5,7]\n",
    "    * 'even numbers': [2,4,6,8,10]\n",
    "3. เขียนฟังก์ชันชื่อ add_numbers ที่รับตัวแปรสองตัว ตัวแรกคือ dictionary ตัวที่สองคือ key แล้วรีเทิร์นผลลัพธ์ที่เป็นผลรวมของเลขทั้งหมดภายใน value ของค่า key นั้น เช่น\n",
    "\n",
    "```\n",
    "add_numbers(number_group, \"prime numbers\")\n",
    "11\n",
    "add_numbers(number_group, \"odd numbers\")\n",
    "16\n",
    "```\n",
    "\n",
    "ข้อ 2\n",
    "\n",
    "1. สร้างตัวแปรชื่อ dvd เป็นดิกชันนารีที่มี 3 keys: \"wall-e\", \"avatar\", \"frozen\"\n",
    "2. value ของแต่ละคีย์เป็นราคาของ dvd: 350, 285, 365\n",
    "3. ใช้คำสั่ง input ถามผู้ใช้ว่า \"What dvd would you like?\"\n",
    "4. ผู้ใช้บอกชื่อหนังที่ต้องการแล้วเราต้องไปเช็คว่าหนังเรื่องนั้นมีในลิสต์หรือไม่ ถ้าไม่มีปรินท์ \"We don't have that dvd.\" ถ้ามีปรินท์ \"We have that dvd, please pay {number} bahts for this dvd\".\n",
    "\n",
    "*ข้อนี้จะต้องใช้วิธีการเขียนที่ไม่ได้สอนในคลาสวันนี้ ลองหาข้อมูลทางอินเตอร์เน็ตดูว่าทำอย่างไร*"
   ]
  }
 ],
 "metadata": {
  "kernelspec": {
   "display_name": "Python 3",
   "language": "python",
   "name": "python3"
  },
  "language_info": {
   "codemirror_mode": {
    "name": "ipython",
    "version": 3
   },
   "file_extension": ".py",
   "mimetype": "text/x-python",
   "name": "python",
   "nbconvert_exporter": "python",
   "pygments_lexer": "ipython3",
   "version": "3.5.1"
  }
 },
 "nbformat": 4,
 "nbformat_minor": 0
}
